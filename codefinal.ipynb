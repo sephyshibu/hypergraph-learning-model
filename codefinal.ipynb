{
 "cells": [
  {
   "cell_type": "code",
   "execution_count": 1,
   "id": "aa223054",
   "metadata": {},
   "outputs": [],
   "source": [
    "import pandas as pd\n",
    "import numpy as np\n",
    "import plotly.express as px\n",
    "import networkx as nx\n",
    "import matplotlib.pyplot as plt\n",
    "import hypernetx as hnx\n",
    "import seaborn as sns\n",
    "from sklearn.decomposition import PCA\n",
    "from sklearn.svm import SVC\n",
    "from sklearn.feature_selection import RFE\n",
    "from mlxtend.feature_selection import SequentialFeatureSelector as SFS\n",
    "from sklearn.model_selection import cross_val_score\n",
    "\n",
    "\n"
   ]
  },
  {
   "cell_type": "code",
   "execution_count": 2,
   "id": "2bee5c9d",
   "metadata": {},
   "outputs": [
    {
     "data": {
      "text/html": [
       "<div>\n",
       "<style scoped>\n",
       "    .dataframe tbody tr th:only-of-type {\n",
       "        vertical-align: middle;\n",
       "    }\n",
       "\n",
       "    .dataframe tbody tr th {\n",
       "        vertical-align: top;\n",
       "    }\n",
       "\n",
       "    .dataframe thead th {\n",
       "        text-align: right;\n",
       "    }\n",
       "</style>\n",
       "<table border=\"1\" class=\"dataframe\">\n",
       "  <thead>\n",
       "    <tr style=\"text-align: right;\">\n",
       "      <th></th>\n",
       "      <th>HighBP</th>\n",
       "      <th>HighChol</th>\n",
       "      <th>CholCheck</th>\n",
       "      <th>Smoker</th>\n",
       "      <th>Stroke</th>\n",
       "      <th>HeartDiseaseorAttack</th>\n",
       "      <th>PhysActivity</th>\n",
       "      <th>HvyAlcoholConsump</th>\n",
       "      <th>Diabetes_binary</th>\n",
       "    </tr>\n",
       "  </thead>\n",
       "  <tbody>\n",
       "    <tr>\n",
       "      <th>0</th>\n",
       "      <td>1</td>\n",
       "      <td>1</td>\n",
       "      <td>1</td>\n",
       "      <td>1</td>\n",
       "      <td>0</td>\n",
       "      <td>0</td>\n",
       "      <td>0</td>\n",
       "      <td>0</td>\n",
       "      <td>0</td>\n",
       "    </tr>\n",
       "    <tr>\n",
       "      <th>1</th>\n",
       "      <td>0</td>\n",
       "      <td>0</td>\n",
       "      <td>0</td>\n",
       "      <td>1</td>\n",
       "      <td>0</td>\n",
       "      <td>0</td>\n",
       "      <td>1</td>\n",
       "      <td>0</td>\n",
       "      <td>0</td>\n",
       "    </tr>\n",
       "    <tr>\n",
       "      <th>2</th>\n",
       "      <td>1</td>\n",
       "      <td>1</td>\n",
       "      <td>1</td>\n",
       "      <td>0</td>\n",
       "      <td>0</td>\n",
       "      <td>0</td>\n",
       "      <td>0</td>\n",
       "      <td>0</td>\n",
       "      <td>0</td>\n",
       "    </tr>\n",
       "    <tr>\n",
       "      <th>3</th>\n",
       "      <td>1</td>\n",
       "      <td>0</td>\n",
       "      <td>1</td>\n",
       "      <td>0</td>\n",
       "      <td>0</td>\n",
       "      <td>0</td>\n",
       "      <td>1</td>\n",
       "      <td>0</td>\n",
       "      <td>0</td>\n",
       "    </tr>\n",
       "    <tr>\n",
       "      <th>4</th>\n",
       "      <td>1</td>\n",
       "      <td>1</td>\n",
       "      <td>1</td>\n",
       "      <td>0</td>\n",
       "      <td>0</td>\n",
       "      <td>0</td>\n",
       "      <td>1</td>\n",
       "      <td>0</td>\n",
       "      <td>0</td>\n",
       "    </tr>\n",
       "  </tbody>\n",
       "</table>\n",
       "</div>"
      ],
      "text/plain": [
       "   HighBP  HighChol  CholCheck  Smoker  Stroke  HeartDiseaseorAttack  \\\n",
       "0       1         1          1       1       0                     0   \n",
       "1       0         0          0       1       0                     0   \n",
       "2       1         1          1       0       0                     0   \n",
       "3       1         0          1       0       0                     0   \n",
       "4       1         1          1       0       0                     0   \n",
       "\n",
       "   PhysActivity  HvyAlcoholConsump  Diabetes_binary  \n",
       "0             0                  0                0  \n",
       "1             1                  0                0  \n",
       "2             0                  0                0  \n",
       "3             1                  0                0  \n",
       "4             1                  0                0  "
      ]
     },
     "execution_count": 2,
     "metadata": {},
     "output_type": "execute_result"
    }
   ],
   "source": [
    "DATATRAIN_SOURCE_FILE=\"diabetes csv - Copy.csv\"\n",
    "df = pd.read_csv(DATATRAIN_SOURCE_FILE)\n",
    "df.head()\n",
    "\n"
   ]
  },
  {
   "cell_type": "code",
   "execution_count": 3,
   "id": "712f1785",
   "metadata": {},
   "outputs": [],
   "source": [
    "y = df['Diabetes_binary'].to_numpy()\n",
    "\n",
    "# Separate other features\n",
    "X = df.drop('Diabetes_binary', axis=1).to_numpy()\n",
    "features = [X[idx] for idx in X]"
   ]
  },
  {
   "cell_type": "code",
   "execution_count": 6,
   "id": "589b5ffe",
   "metadata": {
    "scrolled": true
   },
   "outputs": [
    {
     "name": "stdout",
     "output_type": "stream",
     "text": [
      "Joint entropy of HighBP: 0.9842\n",
      "Joint entropy of HighChol: 0.9847\n",
      "Joint entropy of CholCheck: 0.2020\n",
      "Joint entropy of Smoker: 0.9935\n",
      "Joint entropy of Stroke: 0.2513\n",
      "Joint entropy of HeartDiseaseorAttack: 0.4370\n",
      "Joint entropy of PhysActivity: 0.7639\n",
      "Joint entropy of HvyAlcoholConsump: 0.3167\n",
      "Joint entropy of (HighBP, HighChol): 0.9751\n",
      "Joint entropy of (HighBP, CholCheck): 0.5546\n",
      "Joint entropy of (HighBP, Smoker): 0.9827\n",
      "Joint entropy of (HighBP, Stroke): 0.5784\n",
      "Joint entropy of (HighBP, HeartDiseaseorAttack): 0.6702\n",
      "Joint entropy of (HighBP, PhysActivity): 0.8413\n",
      "Joint entropy of (HighBP, HvyAlcoholConsump): 0.6103\n",
      "Joint entropy of (HighChol, CholCheck): 0.5554\n",
      "Joint entropy of (HighChol, Smoker): 0.9831\n",
      "Joint entropy of (HighChol, Stroke): 0.5792\n",
      "Joint entropy of (HighChol, HeartDiseaseorAttack): 0.6711\n",
      "Joint entropy of (HighChol, PhysActivity): 0.8421\n",
      "Joint entropy of (HighChol, HvyAlcoholConsump): 0.6112\n",
      "Joint entropy of (CholCheck, Smoker): 0.5729\n",
      "Joint entropy of (CholCheck, Stroke): 0.1129\n",
      "Joint entropy of (CholCheck, HeartDiseaseorAttack): 0.1849\n",
      "Joint entropy of (CholCheck, PhysActivity): 0.3579\n",
      "Joint entropy of (CholCheck, HvyAlcoholConsump): 0.1364\n",
      "Joint entropy of (Smoker, Stroke): 0.5970\n",
      "Joint entropy of (Smoker, HeartDiseaseorAttack): 0.6893\n",
      "Joint entropy of (Smoker, PhysActivity): 0.8576\n",
      "Joint entropy of (Smoker, HvyAlcoholConsump): 0.6293\n",
      "Joint entropy of (Stroke, HeartDiseaseorAttack): 0.2032\n",
      "Joint entropy of (Stroke, PhysActivity): 0.3789\n",
      "Joint entropy of (Stroke, HvyAlcoholConsump): 0.1537\n",
      "Joint entropy of (HeartDiseaseorAttack, PhysActivity): 0.4658\n",
      "Joint entropy of (HeartDiseaseorAttack, HvyAlcoholConsump): 0.2292\n",
      "Joint entropy of (PhysActivity, HvyAlcoholConsump): 0.4082\n",
      "Joint entropy of (HighBP, HighChol, CholCheck): 0.5684\n",
      "Joint entropy of (HighBP, HighChol, Smoker): 0.7420\n",
      "Joint entropy of (HighBP, HighChol, Stroke): 0.5787\n",
      "Joint entropy of (HighBP, HighChol, HeartDiseaseorAttack): 0.6181\n",
      "Joint entropy of (HighBP, HighChol, PhysActivity): 0.6902\n",
      "Joint entropy of (HighBP, HighChol, HvyAlcoholConsump): 0.5924\n",
      "Joint entropy of (HighBP, CholCheck, Smoker): 0.5671\n",
      "Joint entropy of (HighBP, CholCheck, Stroke): 0.4903\n",
      "Joint entropy of (HighBP, CholCheck, HeartDiseaseorAttack): 0.5092\n",
      "Joint entropy of (HighBP, CholCheck, PhysActivity): 0.5481\n",
      "Joint entropy of (HighBP, CholCheck, HvyAlcoholConsump): 0.4966\n",
      "Joint entropy of (HighBP, Smoker, Stroke): 0.5776\n",
      "Joint entropy of (HighBP, Smoker, HeartDiseaseorAttack): 0.6181\n",
      "Joint entropy of (HighBP, Smoker, PhysActivity): 0.6914\n",
      "Joint entropy of (HighBP, Smoker, HvyAlcoholConsump): 0.5918\n",
      "Joint entropy of (HighBP, Stroke, HeartDiseaseorAttack): 0.5149\n",
      "Joint entropy of (HighBP, Stroke, PhysActivity): 0.5558\n",
      "Joint entropy of (HighBP, Stroke, HvyAlcoholConsump): 0.5016\n",
      "Joint entropy of (HighBP, HeartDiseaseorAttack, PhysActivity): 0.5866\n",
      "Joint entropy of (HighBP, HeartDiseaseorAttack, HvyAlcoholConsump): 0.5228\n",
      "Joint entropy of (HighBP, PhysActivity, HvyAlcoholConsump): 0.5663\n",
      "Joint entropy of (HighChol, CholCheck, Smoker): 0.5670\n",
      "Joint entropy of (HighChol, CholCheck, Stroke): 0.4909\n",
      "Joint entropy of (HighChol, CholCheck, HeartDiseaseorAttack): 0.5097\n",
      "Joint entropy of (HighChol, CholCheck, PhysActivity): 0.5483\n",
      "Joint entropy of (HighChol, CholCheck, HvyAlcoholConsump): 0.4972\n",
      "Joint entropy of (HighChol, Smoker, Stroke): 0.5776\n",
      "Joint entropy of (HighChol, Smoker, HeartDiseaseorAttack): 0.6181\n",
      "Joint entropy of (HighChol, Smoker, PhysActivity): 0.6915\n",
      "Joint entropy of (HighChol, Smoker, HvyAlcoholConsump): 0.5917\n",
      "Joint entropy of (HighChol, Stroke, HeartDiseaseorAttack): 0.5154\n",
      "Joint entropy of (HighChol, Stroke, PhysActivity): 0.5560\n",
      "Joint entropy of (HighChol, Stroke, HvyAlcoholConsump): 0.5022\n",
      "Joint entropy of (HighChol, HeartDiseaseorAttack, PhysActivity): 0.5868\n",
      "Joint entropy of (HighChol, HeartDiseaseorAttack, HvyAlcoholConsump): 0.5233\n",
      "Joint entropy of (HighChol, PhysActivity, HvyAlcoholConsump): 0.5666\n",
      "Joint entropy of (CholCheck, Smoker, Stroke): 0.5029\n",
      "Joint entropy of (CholCheck, Smoker, HeartDiseaseorAttack): 0.5198\n",
      "Joint entropy of (CholCheck, Smoker, PhysActivity): 0.5533\n",
      "Joint entropy of (CholCheck, Smoker, HvyAlcoholConsump): 0.5085\n",
      "Joint entropy of (CholCheck, Stroke, HeartDiseaseorAttack): 0.2079\n",
      "Joint entropy of (CholCheck, Stroke, PhysActivity): 0.3429\n",
      "Joint entropy of (CholCheck, Stroke, HvyAlcoholConsump): 0.1700\n",
      "Joint entropy of (CholCheck, HeartDiseaseorAttack, PhysActivity): 0.3801\n",
      "Joint entropy of (CholCheck, HeartDiseaseorAttack, HvyAlcoholConsump): 0.2244\n",
      "Joint entropy of (CholCheck, PhysActivity, HvyAlcoholConsump): 0.3551\n",
      "Joint entropy of (Smoker, Stroke, HeartDiseaseorAttack): 0.5251\n",
      "Joint entropy of (Smoker, Stroke, PhysActivity): 0.5610\n",
      "Joint entropy of (Smoker, Stroke, HvyAlcoholConsump): 0.5132\n",
      "Joint entropy of (Smoker, HeartDiseaseorAttack, PhysActivity): 0.5915\n",
      "Joint entropy of (Smoker, HeartDiseaseorAttack, HvyAlcoholConsump): 0.5326\n",
      "Joint entropy of (Smoker, PhysActivity, HvyAlcoholConsump): 0.5715\n",
      "Joint entropy of (Stroke, HeartDiseaseorAttack, PhysActivity): 0.3886\n",
      "Joint entropy of (Stroke, HeartDiseaseorAttack, HvyAlcoholConsump): 0.2354\n",
      "Joint entropy of (Stroke, PhysActivity, HvyAlcoholConsump): 0.3636\n",
      "Joint entropy of (HeartDiseaseorAttack, PhysActivity, HvyAlcoholConsump): 0.4007\n",
      "Joint entropy of (HighBP, HighChol, CholCheck, Smoker): 0.4615\n",
      "Joint entropy of (HighBP, HighChol, CholCheck, Stroke): 0.5254\n",
      "Joint entropy of (HighBP, HighChol, CholCheck, HeartDiseaseorAttack): 0.5234\n",
      "Joint entropy of (HighBP, HighChol, CholCheck, PhysActivity): 0.5109\n",
      "Joint entropy of (HighBP, HighChol, CholCheck, HvyAlcoholConsump): 0.5249\n",
      "Joint entropy of (HighBP, HighChol, Smoker, Stroke): 0.4654\n",
      "Joint entropy of (HighBP, HighChol, Smoker, HeartDiseaseorAttack): 0.4799\n",
      "Joint entropy of (HighBP, HighChol, Smoker, PhysActivity): 0.5026\n",
      "Joint entropy of (HighBP, HighChol, Smoker, HvyAlcoholConsump): 0.4706\n",
      "Joint entropy of (HighBP, HighChol, Stroke, HeartDiseaseorAttack): 0.5239\n",
      "Joint entropy of (HighBP, HighChol, Stroke, PhysActivity): 0.5127\n",
      "Joint entropy of (HighBP, HighChol, Stroke, HvyAlcoholConsump): 0.5250\n",
      "Joint entropy of (HighBP, HighChol, HeartDiseaseorAttack, PhysActivity): 0.5189\n",
      "Joint entropy of (HighBP, HighChol, HeartDiseaseorAttack, HvyAlcoholConsump): 0.5244\n",
      "Joint entropy of (HighBP, HighChol, PhysActivity, HvyAlcoholConsump): 0.5150\n",
      "Joint entropy of (HighBP, CholCheck, Smoker, Stroke): 0.5214\n",
      "Joint entropy of (HighBP, CholCheck, Smoker, HeartDiseaseorAttack): 0.5188\n",
      "Joint entropy of (HighBP, CholCheck, Smoker, PhysActivity): 0.5049\n",
      "Joint entropy of (HighBP, CholCheck, Smoker, HvyAlcoholConsump): 0.5208\n",
      "Joint entropy of (HighBP, CholCheck, Stroke, HeartDiseaseorAttack): 0.5073\n",
      "Joint entropy of (HighBP, CholCheck, Stroke, PhysActivity): 0.5283\n",
      "Joint entropy of (HighBP, CholCheck, Stroke, HvyAlcoholConsump): 0.4996\n",
      "Joint entropy of (HighBP, CholCheck, HeartDiseaseorAttack, PhysActivity): 0.5327\n",
      "Joint entropy of (HighBP, CholCheck, HeartDiseaseorAttack, HvyAlcoholConsump): 0.5105\n",
      "Joint entropy of (HighBP, CholCheck, PhysActivity, HvyAlcoholConsump): 0.5299\n",
      "Joint entropy of (HighBP, Smoker, Stroke, HeartDiseaseorAttack): 0.5193\n",
      "Joint entropy of (HighBP, Smoker, Stroke, PhysActivity): 0.5068\n",
      "Joint entropy of (HighBP, Smoker, Stroke, HvyAlcoholConsump): 0.5208\n",
      "Joint entropy of (HighBP, Smoker, HeartDiseaseorAttack, PhysActivity): 0.5132\n",
      "Joint entropy of (HighBP, Smoker, HeartDiseaseorAttack, HvyAlcoholConsump): 0.5197\n",
      "Joint entropy of (HighBP, Smoker, PhysActivity, HvyAlcoholConsump): 0.5092\n",
      "Joint entropy of (HighBP, Stroke, HeartDiseaseorAttack, PhysActivity): 0.5340\n",
      "Joint entropy of (HighBP, Stroke, HeartDiseaseorAttack, HvyAlcoholConsump): 0.5127\n",
      "Joint entropy of (HighBP, Stroke, PhysActivity, HvyAlcoholConsump): 0.5311\n",
      "Joint entropy of (HighBP, HeartDiseaseorAttack, PhysActivity, HvyAlcoholConsump): 0.5357\n",
      "Joint entropy of (HighChol, CholCheck, Smoker, Stroke): 0.5212\n",
      "Joint entropy of (HighChol, CholCheck, Smoker, HeartDiseaseorAttack): 0.5186\n",
      "Joint entropy of (HighChol, CholCheck, Smoker, PhysActivity): 0.5046\n",
      "Joint entropy of (HighChol, CholCheck, Smoker, HvyAlcoholConsump): 0.5206\n",
      "Joint entropy of (HighChol, CholCheck, Stroke, HeartDiseaseorAttack): 0.5077\n",
      "Joint entropy of (HighChol, CholCheck, Stroke, PhysActivity): 0.5285\n",
      "Joint entropy of (HighChol, CholCheck, Stroke, HvyAlcoholConsump): 0.5001\n",
      "Joint entropy of (HighChol, CholCheck, HeartDiseaseorAttack, PhysActivity): 0.5328\n",
      "Joint entropy of (HighChol, CholCheck, HeartDiseaseorAttack, HvyAlcoholConsump): 0.5109\n",
      "Joint entropy of (HighChol, CholCheck, PhysActivity, HvyAlcoholConsump): 0.5300\n",
      "Joint entropy of (HighChol, Smoker, Stroke, HeartDiseaseorAttack): 0.5190\n",
      "Joint entropy of (HighChol, Smoker, Stroke, PhysActivity): 0.5065\n",
      "Joint entropy of (HighChol, Smoker, Stroke, HvyAlcoholConsump): 0.5205\n",
      "Joint entropy of (HighChol, Smoker, HeartDiseaseorAttack, PhysActivity): 0.5130\n",
      "Joint entropy of (HighChol, Smoker, HeartDiseaseorAttack, HvyAlcoholConsump): 0.5194\n",
      "Joint entropy of (HighChol, Smoker, PhysActivity, HvyAlcoholConsump): 0.5089\n",
      "Joint entropy of (HighChol, Stroke, HeartDiseaseorAttack, PhysActivity): 0.5340\n",
      "Joint entropy of (HighChol, Stroke, HeartDiseaseorAttack, HvyAlcoholConsump): 0.5130\n",
      "Joint entropy of (HighChol, Stroke, PhysActivity, HvyAlcoholConsump): 0.5312\n",
      "Joint entropy of (HighChol, HeartDiseaseorAttack, PhysActivity, HvyAlcoholConsump): 0.5357\n",
      "Joint entropy of (CholCheck, Smoker, Stroke, HeartDiseaseorAttack): 0.5154\n"
     ]
    },
    {
     "name": "stdout",
     "output_type": "stream",
     "text": [
      "Joint entropy of (CholCheck, Smoker, Stroke, PhysActivity): 0.5310\n",
      "Joint entropy of (CholCheck, Smoker, Stroke, HvyAlcoholConsump): 0.5093\n",
      "Joint entropy of (CholCheck, Smoker, HeartDiseaseorAttack, PhysActivity): 0.5340\n",
      "Joint entropy of (CholCheck, Smoker, HeartDiseaseorAttack, HvyAlcoholConsump): 0.5180\n",
      "Joint entropy of (CholCheck, Smoker, PhysActivity, HvyAlcoholConsump): 0.5322\n",
      "Joint entropy of (CholCheck, Stroke, HeartDiseaseorAttack, PhysActivity): 0.3988\n",
      "Joint entropy of (CholCheck, Stroke, HeartDiseaseorAttack, HvyAlcoholConsump): 0.2624\n",
      "Joint entropy of (CholCheck, Stroke, PhysActivity, HvyAlcoholConsump): 0.3782\n",
      "Joint entropy of (CholCheck, HeartDiseaseorAttack, PhysActivity, HvyAlcoholConsump): 0.4076\n",
      "Joint entropy of (Smoker, Stroke, HeartDiseaseorAttack, PhysActivity): 0.5350\n",
      "Joint entropy of (Smoker, Stroke, HeartDiseaseorAttack, HvyAlcoholConsump): 0.5198\n",
      "Joint entropy of (Smoker, Stroke, PhysActivity, HvyAlcoholConsump): 0.5331\n",
      "Joint entropy of (Smoker, HeartDiseaseorAttack, PhysActivity, HvyAlcoholConsump): 0.5364\n",
      "Joint entropy of (Stroke, HeartDiseaseorAttack, PhysActivity, HvyAlcoholConsump): 0.4134\n",
      "Joint entropy of (HighBP, HighChol, CholCheck, Smoker, Stroke): 0.4325\n",
      "Joint entropy of (HighBP, HighChol, CholCheck, Smoker, HeartDiseaseorAttack): 0.4240\n",
      "Joint entropy of (HighBP, HighChol, CholCheck, Smoker, PhysActivity): 0.3969\n",
      "Joint entropy of (HighBP, HighChol, CholCheck, Smoker, HvyAlcoholConsump): 0.4299\n",
      "Joint entropy of (HighBP, HighChol, CholCheck, Stroke, HeartDiseaseorAttack): 0.5135\n",
      "Joint entropy of (HighBP, HighChol, CholCheck, Stroke, PhysActivity): 0.4931\n",
      "Joint entropy of (HighBP, HighChol, CholCheck, Stroke, HvyAlcoholConsump): 0.5172\n",
      "Joint entropy of (HighBP, HighChol, CholCheck, HeartDiseaseorAttack, PhysActivity): 0.4859\n",
      "Joint entropy of (HighBP, HighChol, CholCheck, HeartDiseaseorAttack, HvyAlcoholConsump): 0.5118\n",
      "Joint entropy of (HighBP, HighChol, CholCheck, PhysActivity, HvyAlcoholConsump): 0.4909\n",
      "Joint entropy of (HighBP, HighChol, Smoker, Stroke, HeartDiseaseorAttack): 0.4227\n",
      "Joint entropy of (HighBP, HighChol, Smoker, Stroke, PhysActivity): 0.3966\n",
      "Joint entropy of (HighBP, HighChol, Smoker, Stroke, HvyAlcoholConsump): 0.4283\n",
      "Joint entropy of (HighBP, HighChol, Smoker, HeartDiseaseorAttack, PhysActivity): 0.3938\n",
      "Joint entropy of (HighBP, HighChol, Smoker, HeartDiseaseorAttack, HvyAlcoholConsump): 0.4207\n",
      "Joint entropy of (HighBP, HighChol, Smoker, PhysActivity, HvyAlcoholConsump): 0.3958\n",
      "Joint entropy of (HighBP, HighChol, Stroke, HeartDiseaseorAttack, PhysActivity): 0.4846\n",
      "Joint entropy of (HighBP, HighChol, Stroke, HeartDiseaseorAttack, HvyAlcoholConsump): 0.5106\n",
      "Joint entropy of (HighBP, HighChol, Stroke, PhysActivity, HvyAlcoholConsump): 0.4896\n",
      "Joint entropy of (HighBP, HighChol, HeartDiseaseorAttack, PhysActivity, HvyAlcoholConsump): 0.4826\n",
      "Joint entropy of (HighBP, CholCheck, Smoker, Stroke, HeartDiseaseorAttack): 0.5081\n",
      "Joint entropy of (HighBP, CholCheck, Smoker, Stroke, PhysActivity): 0.4862\n",
      "Joint entropy of (HighBP, CholCheck, Smoker, Stroke, HvyAlcoholConsump): 0.5123\n",
      "Joint entropy of (HighBP, CholCheck, Smoker, HeartDiseaseorAttack, PhysActivity): 0.4786\n",
      "Joint entropy of (HighBP, CholCheck, Smoker, HeartDiseaseorAttack, HvyAlcoholConsump): 0.5062\n",
      "Joint entropy of (HighBP, CholCheck, Smoker, PhysActivity, HvyAlcoholConsump): 0.4839\n",
      "Joint entropy of (HighBP, CholCheck, Stroke, HeartDiseaseorAttack, PhysActivity): 0.5308\n",
      "Joint entropy of (HighBP, CholCheck, Stroke, HeartDiseaseorAttack, HvyAlcoholConsump): 0.5165\n",
      "Joint entropy of (HighBP, CholCheck, Stroke, PhysActivity, HvyAlcoholConsump): 0.5299\n",
      "Joint entropy of (HighBP, CholCheck, HeartDiseaseorAttack, PhysActivity, HvyAlcoholConsump): 0.5310\n",
      "Joint entropy of (HighBP, Smoker, Stroke, HeartDiseaseorAttack, PhysActivity): 0.4772\n",
      "Joint entropy of (HighBP, Smoker, Stroke, HeartDiseaseorAttack, HvyAlcoholConsump): 0.5049\n",
      "Joint entropy of (HighBP, Smoker, Stroke, PhysActivity, HvyAlcoholConsump): 0.4824\n",
      "Joint entropy of (HighBP, Smoker, HeartDiseaseorAttack, PhysActivity, HvyAlcoholConsump): 0.4752\n",
      "Joint entropy of (HighBP, Stroke, HeartDiseaseorAttack, PhysActivity, HvyAlcoholConsump): 0.5311\n",
      "Joint entropy of (HighChol, CholCheck, Smoker, Stroke, HeartDiseaseorAttack): 0.5079\n",
      "Joint entropy of (HighChol, CholCheck, Smoker, Stroke, PhysActivity): 0.4859\n",
      "Joint entropy of (HighChol, CholCheck, Smoker, Stroke, HvyAlcoholConsump): 0.5121\n",
      "Joint entropy of (HighChol, CholCheck, Smoker, HeartDiseaseorAttack, PhysActivity): 0.4782\n",
      "Joint entropy of (HighChol, CholCheck, Smoker, HeartDiseaseorAttack, HvyAlcoholConsump): 0.5059\n",
      "Joint entropy of (HighChol, CholCheck, Smoker, PhysActivity, HvyAlcoholConsump): 0.4835\n",
      "Joint entropy of (HighChol, CholCheck, Stroke, HeartDiseaseorAttack, PhysActivity): 0.5308\n",
      "Joint entropy of (HighChol, CholCheck, Stroke, HeartDiseaseorAttack, HvyAlcoholConsump): 0.5167\n",
      "Joint entropy of (HighChol, CholCheck, Stroke, PhysActivity, HvyAlcoholConsump): 0.5299\n",
      "Joint entropy of (HighChol, CholCheck, HeartDiseaseorAttack, PhysActivity, HvyAlcoholConsump): 0.5310\n",
      "Joint entropy of (HighChol, Smoker, Stroke, HeartDiseaseorAttack, PhysActivity): 0.4769\n",
      "Joint entropy of (HighChol, Smoker, Stroke, HeartDiseaseorAttack, HvyAlcoholConsump): 0.5046\n",
      "Joint entropy of (HighChol, Smoker, Stroke, PhysActivity, HvyAlcoholConsump): 0.4821\n",
      "Joint entropy of (HighChol, Smoker, HeartDiseaseorAttack, PhysActivity, HvyAlcoholConsump): 0.4748\n",
      "Joint entropy of (HighChol, Stroke, HeartDiseaseorAttack, PhysActivity, HvyAlcoholConsump): 0.5311\n",
      "Joint entropy of (CholCheck, Smoker, Stroke, HeartDiseaseorAttack, PhysActivity): 0.5308\n",
      "Joint entropy of (CholCheck, Smoker, Stroke, HeartDiseaseorAttack, HvyAlcoholConsump): 0.5223\n",
      "Joint entropy of (CholCheck, Smoker, Stroke, PhysActivity, HvyAlcoholConsump): 0.5308\n",
      "Joint entropy of (CholCheck, Smoker, HeartDiseaseorAttack, PhysActivity, HvyAlcoholConsump): 0.5306\n",
      "Joint entropy of (CholCheck, Stroke, HeartDiseaseorAttack, PhysActivity, HvyAlcoholConsump): 0.4283\n",
      "Joint entropy of (Smoker, Stroke, HeartDiseaseorAttack, PhysActivity, HvyAlcoholConsump): 0.5304\n",
      "Joint entropy of (HighBP, HighChol, CholCheck, Smoker, Stroke, HeartDiseaseorAttack): 0.4130\n",
      "Joint entropy of (HighBP, HighChol, CholCheck, Smoker, Stroke, PhysActivity): 0.3827\n",
      "Joint entropy of (HighBP, HighChol, CholCheck, Smoker, Stroke, HvyAlcoholConsump): 0.4198\n",
      "Joint entropy of (HighBP, HighChol, CholCheck, Smoker, HeartDiseaseorAttack, PhysActivity): 0.3730\n",
      "Joint entropy of (HighBP, HighChol, CholCheck, Smoker, HeartDiseaseorAttack, HvyAlcoholConsump): 0.4100\n",
      "Joint entropy of (HighBP, HighChol, CholCheck, Smoker, PhysActivity, HvyAlcoholConsump): 0.3797\n",
      "Joint entropy of (HighBP, HighChol, CholCheck, Stroke, HeartDiseaseorAttack, PhysActivity): 0.4775\n",
      "Joint entropy of (HighBP, HighChol, CholCheck, Stroke, HeartDiseaseorAttack, HvyAlcoholConsump): 0.5061\n",
      "Joint entropy of (HighBP, HighChol, CholCheck, Stroke, PhysActivity, HvyAlcoholConsump): 0.4833\n",
      "Joint entropy of (HighBP, HighChol, CholCheck, HeartDiseaseorAttack, PhysActivity, HvyAlcoholConsump): 0.4748\n",
      "Joint entropy of (HighBP, HighChol, Smoker, Stroke, HeartDiseaseorAttack, PhysActivity): 0.3712\n",
      "Joint entropy of (HighBP, HighChol, Smoker, Stroke, HeartDiseaseorAttack, HvyAlcoholConsump): 0.4079\n",
      "Joint entropy of (HighBP, HighChol, Smoker, Stroke, PhysActivity, HvyAlcoholConsump): 0.3777\n",
      "Joint entropy of (HighBP, HighChol, Smoker, HeartDiseaseorAttack, PhysActivity, HvyAlcoholConsump): 0.3683\n",
      "Joint entropy of (HighBP, HighChol, Stroke, HeartDiseaseorAttack, PhysActivity, HvyAlcoholConsump): 0.4730\n",
      "Joint entropy of (HighBP, CholCheck, Smoker, Stroke, HeartDiseaseorAttack, PhysActivity): 0.4698\n",
      "Joint entropy of (HighBP, CholCheck, Smoker, Stroke, HeartDiseaseorAttack, HvyAlcoholConsump): 0.5000\n",
      "Joint entropy of (HighBP, CholCheck, Smoker, Stroke, PhysActivity, HvyAlcoholConsump): 0.4758\n",
      "Joint entropy of (HighBP, CholCheck, Smoker, HeartDiseaseorAttack, PhysActivity, HvyAlcoholConsump): 0.4671\n",
      "Joint entropy of (HighBP, CholCheck, Stroke, HeartDiseaseorAttack, PhysActivity, HvyAlcoholConsump): 0.5304\n",
      "Joint entropy of (HighBP, Smoker, Stroke, HeartDiseaseorAttack, PhysActivity, HvyAlcoholConsump): 0.4652\n",
      "Joint entropy of (HighChol, CholCheck, Smoker, Stroke, HeartDiseaseorAttack, PhysActivity): 0.4695\n",
      "Joint entropy of (HighChol, CholCheck, Smoker, Stroke, HeartDiseaseorAttack, HvyAlcoholConsump): 0.4997\n",
      "Joint entropy of (HighChol, CholCheck, Smoker, Stroke, PhysActivity, HvyAlcoholConsump): 0.4755\n",
      "Joint entropy of (HighChol, CholCheck, Smoker, HeartDiseaseorAttack, PhysActivity, HvyAlcoholConsump): 0.4667\n",
      "Joint entropy of (HighChol, CholCheck, Stroke, HeartDiseaseorAttack, PhysActivity, HvyAlcoholConsump): 0.5304\n",
      "Joint entropy of (HighChol, Smoker, Stroke, HeartDiseaseorAttack, PhysActivity, HvyAlcoholConsump): 0.4648\n",
      "Joint entropy of (CholCheck, Smoker, Stroke, HeartDiseaseorAttack, PhysActivity, HvyAlcoholConsump): 0.5291\n",
      "Joint entropy of (HighBP, HighChol, CholCheck, Smoker, Stroke, HeartDiseaseorAttack, PhysActivity): 0.3640\n"
     ]
    },
    {
     "name": "stdout",
     "output_type": "stream",
     "text": [
      "Joint entropy of (HighBP, HighChol, CholCheck, Smoker, Stroke, HeartDiseaseorAttack, HvyAlcoholConsump): 0.4014\n",
      "Joint entropy of (HighBP, HighChol, CholCheck, Smoker, Stroke, PhysActivity, HvyAlcoholConsump): 0.3709\n",
      "Joint entropy of (HighBP, HighChol, CholCheck, Smoker, HeartDiseaseorAttack, PhysActivity, HvyAlcoholConsump): 0.3609\n",
      "Joint entropy of (HighBP, HighChol, CholCheck, Stroke, HeartDiseaseorAttack, PhysActivity, HvyAlcoholConsump): 0.4674\n",
      "Joint entropy of (HighBP, HighChol, Smoker, Stroke, HeartDiseaseorAttack, PhysActivity, HvyAlcoholConsump): 0.3588\n",
      "Joint entropy of (HighBP, CholCheck, Smoker, Stroke, HeartDiseaseorAttack, PhysActivity, HvyAlcoholConsump): 0.4594\n",
      "Joint entropy of (HighChol, CholCheck, Smoker, Stroke, HeartDiseaseorAttack, PhysActivity, HvyAlcoholConsump): 0.4590\n",
      "Joint entropy of (HighBP, HighChol, CholCheck, Smoker, Stroke, HeartDiseaseorAttack, PhysActivity, HvyAlcoholConsump): 0.3526\n",
      "Total number of feature combinations: 247\n"
     ]
    }
   ],
   "source": [
    "import itertools\n",
    "import numpy as np\n",
    "count=0\n",
    "\n",
    "\n",
    "def joint_entropy(feature_set):\n",
    "    # calculate joint probability\n",
    "    prob = np.prod([df[f].value_counts(normalize=True) for f in feature_set], axis=0)\n",
    "\n",
    "    # calculate joint entropy\n",
    "    entropy = -np.sum(prob * np.log2(prob))\n",
    "    return entropy\n",
    "\n",
    "# calculate joint entropy for each feature\n",
    "for f in features:\n",
    "    j_entropy = joint_entropy([f])\n",
    "    print(f\"Joint entropy of {f}: {j_entropy:.4f}\")\n",
    "\n",
    "# calculate joint entropy for combinations of features\n",
    "for m in range(2, len(features) + 1):\n",
    "    for feature_set in itertools.combinations(features, m):\n",
    "        j_entropy = joint_entropy(feature_set)\n",
    "        feature_set_str = \", \".join(feature_set)\n",
    "        print(f\"Joint entropy of ({feature_set_str}): {j_entropy:.4f}\")\n",
    "        count+=1\n",
    "print(f\"Total number of feature combinations: {count}\")"
   ]
  },
  {
   "cell_type": "code",
   "execution_count": 7,
   "id": "7f16176c",
   "metadata": {},
   "outputs": [],
   "source": [
    "from itertools import combinations\n",
    "\n",
    "def shared_entropy(feature_set):\n",
    "    shared = 0\n",
    "    n = len(feature_set)\n",
    "    for i in range(1, n + 1):\n",
    "        for combo in combinations(feature_set, i):\n",
    "            j = joint_entropy(combo)\n",
    "            shared += (-1) ** (i + 1) * j\n",
    "    return shared\n"
   ]
  },
  {
   "cell_type": "code",
   "execution_count": 8,
   "id": "1c325176",
   "metadata": {
    "scrolled": true
   },
   "outputs": [
    {
     "name": "stdout",
     "output_type": "stream",
     "text": [
      "{('HighBP',): 0.9842142733250672, ('HighChol',): 0.9847198017633687, ('CholCheck',): 0.2020186812659484, ('Smoker',): 0.9935353333906434, ('Stroke',): 0.25125305943667553, ('HeartDiseaseorAttack',): 0.43700054080827866, ('PhysActivity',): 0.763871751226713, ('HvyAlcoholConsump',): 0.3166900862338933, ('HighBP', 'HighChol'): 0.9938527884951236, ('HighBP', 'CholCheck'): 0.6316794283887891, ('HighBP', 'Smoker'): 0.9950065445405185, ('HighBP', 'Stroke'): 0.6571171422146489, ('HighBP', 'HeartDiseaseorAttack'): 0.7510292903211864, ('HighBP', 'PhysActivity'): 0.9067825491277078, ('HighBP', 'HvyAlcoholConsump'): 0.6905735195958012, ('HighChol', 'CholCheck'): 0.6313234562140452, ('HighChol', 'Smoker'): 0.9951618464722404, ('HighChol', 'Stroke'): 0.6567477151636921, ('HighChol', 'HeartDiseaseorAttack'): 0.7506419742521244, ('HighChol', 'PhysActivity'): 0.9065155536058762, ('HighChol', 'HvyAlcoholConsump'): 0.6901918464246667, ('CholCheck', 'Smoker'): 0.6226200392171546, ('CholCheck', 'Stroke'): 0.3403377023893213, ('CholCheck', 'HeartDiseaseorAttack'): 0.45412916441435286, ('CholCheck', 'PhysActivity'): 0.6080326588461991, ('CholCheck', 'HvyAlcoholConsump'): 0.382300652883005, ('Smoker', 'Stroke'): 0.6477598045914597, ('Smoker', 'HeartDiseaseorAttack'): 0.7412845633234096, ('Smoker', 'PhysActivity'): 0.8997596677021438, ('Smoker', 'HvyAlcoholConsump'): 0.6809464908852967, ('Stroke', 'HeartDiseaseorAttack'): 0.4850713334526109, ('Stroke', 'PhysActivity'): 0.636186791108944, ('Stroke', 'HvyAlcoholConsump'): 0.4142501726788576, ('HeartDiseaseorAttack', 'PhysActivity'): 0.7350372758973582, ('HeartDiseaseorAttack', 'HvyAlcoholConsump'): 0.5244880470455733, ('PhysActivity', 'HvyAlcoholConsump'): 0.6723415224284244, ('HighBP', 'HighChol', 'CholCheck'): 0.6543254569463705, ('HighBP', 'HighChol', 'Smoker'): 0.7635421721153585, ('HighBP', 'HighChol', 'Stroke'): 0.6662067868922941, ('HighBP', 'HighChol', 'HeartDiseaseorAttack'): 0.7077205509302731, ('HighBP', 'HighChol', 'PhysActivity'): 0.7645524949466633, ('HighBP', 'HighChol', 'HvyAlcoholConsump'): 0.6814361257557064, ('HighBP', 'CholCheck', 'Smoker'): 0.6365879554520565, ('HighBP', 'CholCheck', 'Stroke'): 0.6819024239744436, ('HighBP', 'CholCheck', 'HeartDiseaseorAttack'): 0.7228044615290283, ('HighBP', 'CholCheck', 'PhysActivity'): 0.7444477370563265, ('HighBP', 'CholCheck', 'HvyAlcoholConsump'): 0.6982124474281219, ('HighBP', 'Smoker', 'Stroke'): 0.648488483747649, ('HighBP', 'Smoker', 'HeartDiseaseorAttack'): 0.6906406118991594, ('HighBP', 'Smoker', 'PhysActivity'): 0.751365496856193, ('HighBP', 'Smoker', 'HvyAlcoholConsump'): 0.6638394211199452, ('HighBP', 'Stroke', 'HeartDiseaseorAttack'): 0.7356284934755429, ('HighBP', 'Stroke', 'PhysActivity'): 0.7565012759049603, ('HighBP', 'Stroke', 'HvyAlcoholConsump'): 0.7114148438398753, ('HighBP', 'HeartDiseaseorAttack', 'PhysActivity'): 0.7943566666584304, ('HighBP', 'HeartDiseaseorAttack', 'HvyAlcoholConsump'): 0.7510013367795354, ('HighBP', 'PhysActivity', 'HvyAlcoholConsump'): 0.7712273246836439, ('HighChol', 'CholCheck', 'Smoker'): 0.6358083660855206, ('HighChol', 'CholCheck', 'Stroke'): 0.6812721532864423, ('HighChol', 'CholCheck', 'HeartDiseaseorAttack'): 0.722062059228403, ('HighChol', 'CholCheck', 'PhysActivity'): 0.7435840554109889, ('HighChol', 'CholCheck', 'HvyAlcoholConsump'): 0.6975396968405154, ('HighChol', 'Smoker', 'Stroke'): 0.6477114671184816, ('HighChol', 'Smoker', 'HeartDiseaseorAttack'): 0.6898999216475873, ('HighChol', 'Smoker', 'PhysActivity'): 0.750819052589681, ('HighChol', 'Smoker', 'HvyAlcoholConsump'): 0.6630703430809523, ('HighChol', 'Stroke', 'HeartDiseaseorAttack'): 0.7348586554814965, ('HighChol', 'Stroke', 'PhysActivity'): 0.7556226167730591, ('HighChol', 'Stroke', 'HvyAlcoholConsump'): 0.7107110726076873, ('HighChol', 'HeartDiseaseorAttack', 'PhysActivity'): 0.793444691736838, ('HighChol', 'HeartDiseaseorAttack', 'HvyAlcoholConsump'): 0.7501983112797688, ('HighChol', 'PhysActivity', 'HvyAlcoholConsump'): 0.7703327054017157, ('CholCheck', 'Smoker', 'Stroke'): 0.6667858764299334, ('CholCheck', 'Smoker', 'HeartDiseaseorAttack'): 0.7052333541366335, ('CholCheck', 'Smoker', 'PhysActivity'): 0.7243057350210323, ('CholCheck', 'Smoker', 'HvyAlcoholConsump'): 0.6821629521373074, ('CholCheck', 'Stroke', 'HeartDiseaseorAttack'): 0.5971319534714679, ('CholCheck', 'Stroke', 'PhysActivity'): 0.7103355722605869, ('CholCheck', 'Stroke', 'HvyAlcoholConsump'): 0.5369745518773719, ('CholCheck', 'HeartDiseaseorAttack', 'PhysActivity'): 0.7744566149781597, ('CholCheck', 'HeartDiseaseorAttack', 'HvyAlcoholConsump'): 0.6296145445987893, ('CholCheck', 'PhysActivity', 'HvyAlcoholConsump'): 0.7352035605353081, ('Smoker', 'Stroke', 'HeartDiseaseorAttack'): 0.7174541882118646, ('Smoker', 'Stroke', 'PhysActivity'): 0.7360317019696752, ('Smoker', 'Stroke', 'HvyAlcoholConsump'): 0.6946827318960476, ('Smoker', 'HeartDiseaseorAttack', 'PhysActivity'): 0.7731753268929922, ('Smoker', 'HeartDiseaseorAttack', 'HvyAlcoholConsump'): 0.7320999200751546, ('Smoker', 'PhysActivity', 'HvyAlcoholConsump'): 0.7504115411406511, ('Stroke', 'HeartDiseaseorAttack', 'PhysActivity'): 0.7927693530564779, ('Stroke', 'HeartDiseaseorAttack', 'HvyAlcoholConsump'): 0.654310433032999, ('Stroke', 'PhysActivity', 'HvyAlcoholConsump'): 0.7545566459531262, ('HeartDiseaseorAttack', 'PhysActivity', 'HvyAlcoholConsump'): 0.8149828027910158, ('HighBP', 'HighChol', 'CholCheck', 'Smoker'): 0.5236231673923009, ('HighBP', 'HighChol', 'CholCheck', 'Stroke'): 0.6694883131852477, ('HighBP', 'HighChol', 'CholCheck', 'HeartDiseaseorAttack'): 0.6788104386315582, ('HighBP', 'HighChol', 'CholCheck', 'PhysActivity'): 0.6526543793166548, ('HighBP', 'HighChol', 'CholCheck', 'HvyAlcoholConsump'): 0.6743376425956759, ('HighBP', 'HighChol', 'Smoker', 'Stroke'): 0.5286176788039761, ('HighBP', 'HighChol', 'Smoker', 'HeartDiseaseorAttack'): 0.5444125948571678, ('HighBP', 'HighChol', 'Smoker', 'PhysActivity'): 0.5568988408725012, ('HighBP', 'HighChol', 'Smoker', 'HvyAlcoholConsump'): 0.5347407836775422, ('HighBP', 'HighChol', 'Stroke', 'HeartDiseaseorAttack'): 0.683258451191223, ('HighBP', 'HighChol', 'Stroke', 'PhysActivity'): 0.6570331039002055, ('HighBP', 'HighChol', 'Stroke', 'HvyAlcoholConsump'): 0.6789125744370825, ('HighBP', 'HighChol', 'HeartDiseaseorAttack', 'PhysActivity'): 0.6670892664142679, ('HighBP', 'HighChol', 'HeartDiseaseorAttack', 'HvyAlcoholConsump'): 0.687806593020203, ('HighBP', 'HighChol', 'PhysActivity', 'HvyAlcoholConsump'): 0.6617600584537717, ('HighBP', 'CholCheck', 'Smoker', 'Stroke'): 0.6488426278407695, ('HighBP', 'CholCheck', 'Smoker', 'HeartDiseaseorAttack'): 0.6574394143638286, ('HighBP', 'CholCheck', 'Smoker', 'PhysActivity'): 0.6315735094438085, ('HighBP', 'CholCheck', 'Smoker', 'HvyAlcoholConsump'): 0.6533779763705712, ('HighBP', 'CholCheck', 'Stroke', 'HeartDiseaseorAttack'): 0.7853173585819229, ('HighBP', 'CholCheck', 'Stroke', 'PhysActivity'): 0.7860875473157811, ('HighBP', 'CholCheck', 'Stroke', 'HvyAlcoholConsump'): 0.7667846121468417, ('HighBP', 'CholCheck', 'HeartDiseaseorAttack', 'PhysActivity'): 0.8037968736885579, ('HighBP', 'CholCheck', 'HeartDiseaseorAttack', 'HvyAlcoholConsump'): 0.79685986677307, ('HighBP', 'CholCheck', 'PhysActivity', 'HvyAlcoholConsump'): 0.7942800649780074, ('HighBP', 'Smoker', 'Stroke', 'HeartDiseaseorAttack'): 0.6616823532708215, ('HighBP', 'Smoker', 'Stroke', 'PhysActivity'): 0.6358794819806708, ('HighBP', 'Smoker', 'Stroke', 'HvyAlcoholConsump'): 0.6577091482566827, ('HighBP', 'Smoker', 'HeartDiseaseorAttack', 'PhysActivity'): 0.6460403794414409, ('HighBP', 'Smoker', 'HeartDiseaseorAttack', 'HvyAlcoholConsump'): 0.6660166234359659, ('HighBP', 'Smoker', 'PhysActivity', 'HvyAlcoholConsump'): 0.6405739211648737, ('HighBP', 'Stroke', 'HeartDiseaseorAttack', 'PhysActivity'): 0.8104025683348469, ('HighBP', 'Stroke', 'HeartDiseaseorAttack', 'HvyAlcoholConsump'): 0.8063280623688743, ('HighBP', 'Stroke', 'PhysActivity', 'HvyAlcoholConsump'): 0.8013527266983422, ('HighBP', 'HeartDiseaseorAttack', 'PhysActivity', 'HvyAlcoholConsump'): 0.8174129838494396, ('HighChol', 'CholCheck', 'Smoker', 'Stroke'): 0.6479276057068003, ('HighChol', 'CholCheck', 'Smoker', 'HeartDiseaseorAttack'): 0.6564919871595409, ('HighChol', 'CholCheck', 'Smoker', 'PhysActivity'): 0.630639042156718, ('HighChol', 'CholCheck', 'Smoker', 'HvyAlcoholConsump'): 0.6524489264512169, ('HighChol', 'CholCheck', 'Stroke', 'HeartDiseaseorAttack'): 0.7843947906627793, ('HighChol', 'CholCheck', 'Stroke', 'PhysActivity'): 0.7850634734679331, ('HighChol', 'CholCheck', 'Stroke', 'HvyAlcoholConsump'): 0.7659252686793249, ('HighChol', 'CholCheck', 'HeartDiseaseorAttack', 'PhysActivity'): 0.8027093772381574, ('HighChol', 'CholCheck', 'HeartDiseaseorAttack', 'HvyAlcoholConsump'): 0.7959026284759487, ('HighChol', 'CholCheck', 'PhysActivity', 'HvyAlcoholConsump'): 0.7932305173163972, ('HighChol', 'Smoker', 'Stroke', 'HeartDiseaseorAttack'): 0.6607259199715025, ('HighChol', 'Smoker', 'Stroke', 'PhysActivity'): 0.6349422601420666, ('HighChol', 'Smoker', 'Stroke', 'HvyAlcoholConsump'): 0.6567692765980939, ('HighChol', 'Smoker', 'HeartDiseaseorAttack', 'PhysActivity'): 0.6451101049246968, ('HighChol', 'Smoker', 'HeartDiseaseorAttack', 'HvyAlcoholConsump'): 0.6650508638911657, ('HighChol', 'Smoker', 'PhysActivity', 'HvyAlcoholConsump'): 0.6396359727563706, ('HighChol', 'Stroke', 'HeartDiseaseorAttack', 'PhysActivity'): 0.8092973646544721, ('HighChol', 'Stroke', 'HeartDiseaseorAttack', 'HvyAlcoholConsump'): 0.8053443485707278, ('HighChol', 'Stroke', 'PhysActivity', 'HvyAlcoholConsump'): 0.8002835250030278, ('HighChol', 'HeartDiseaseorAttack', 'PhysActivity', 'HvyAlcoholConsump'): 0.8162873254721762, ('CholCheck', 'Smoker', 'Stroke', 'HeartDiseaseorAttack'): 0.7637645198653541, ('CholCheck', 'Smoker', 'Stroke', 'PhysActivity'): 0.7624030439205162, ('CholCheck', 'Smoker', 'Stroke', 'HvyAlcoholConsump'): 0.7466104220088577, ('CholCheck', 'Smoker', 'HeartDiseaseorAttack', 'PhysActivity'): 0.7787355415604884, ('CholCheck', 'Smoker', 'HeartDiseaseorAttack', 'HvyAlcoholConsump'): 0.7745474468303082, ('CholCheck', 'Smoker', 'PhysActivity', 'HvyAlcoholConsump'): 0.7700392124309826, ('CholCheck', 'Stroke', 'HeartDiseaseorAttack', 'PhysActivity'): 0.8712506155262063, ('CholCheck', 'Stroke', 'HeartDiseaseorAttack', 'HvyAlcoholConsump'): 0.7620508101321819, ('CholCheck', 'Stroke', 'PhysActivity', 'HvyAlcoholConsump'): 0.8392295086410873, ('CholCheck', 'HeartDiseaseorAttack', 'PhysActivity', 'HvyAlcoholConsump'): 0.8899142368571187, ('Smoker', 'Stroke', 'HeartDiseaseorAttack', 'PhysActivity'): 0.7849536721723923, ('Smoker', 'Stroke', 'HeartDiseaseorAttack', 'HvyAlcoholConsump'): 0.7834340530433215, ('Smoker', 'Stroke', 'PhysActivity', 'HvyAlcoholConsump'): 0.7766811770115248, ('Smoker', 'HeartDiseaseorAttack', 'PhysActivity', 'HvyAlcoholConsump'): 0.7915189247377429, ('Stroke', 'HeartDiseaseorAttack', 'PhysActivity', 'HvyAlcoholConsump'): 0.9047012865967223, ('HighBP', 'HighChol', 'CholCheck', 'Smoker', 'Stroke'): 0.5242190528072316, ('HighBP', 'HighChol', 'CholCheck', 'Smoker', 'HeartDiseaseorAttack'): 0.5213861686041291, ('HighBP', 'HighChol', 'CholCheck', 'Smoker', 'PhysActivity'): 0.4853661743458964, ('HighBP', 'HighChol', 'CholCheck', 'Smoker', 'HvyAlcoholConsump'): 0.5243462700019714, ('HighBP', 'HighChol', 'CholCheck', 'Stroke', 'HeartDiseaseorAttack'): 0.7035931794107217, ('HighBP', 'HighChol', 'CholCheck', 'Stroke', 'PhysActivity'): 0.6672107859797765, ('HighBP', 'HighChol', 'CholCheck', 'Stroke', 'HvyAlcoholConsump'): 0.7021518545700812, ('HighBP', 'HighChol', 'CholCheck', 'HeartDiseaseorAttack', 'PhysActivity'): 0.6663911980555668, ('HighBP', 'HighChol', 'CholCheck', 'HeartDiseaseorAttack', 'HvyAlcoholConsump'): 0.7061307018773874, ('HighBP', 'HighChol', 'CholCheck', 'PhysActivity', 'HvyAlcoholConsump'): 0.6684119220547957, ('HighBP', 'HighChol', 'Smoker', 'Stroke', 'HeartDiseaseorAttack'): 0.5222070911205771, ('HighBP', 'HighChol', 'Smoker', 'Stroke', 'PhysActivity'): 0.4863901672618386, ('HighBP', 'HighChol', 'Smoker', 'Stroke', 'HvyAlcoholConsump'): 0.5251774375201246, ('HighBP', 'HighChol', 'Smoker', 'HeartDiseaseorAttack', 'PhysActivity'): 0.48556573526746855, ('HighBP', 'HighChol', 'Smoker', 'HeartDiseaseorAttack', 'HvyAlcoholConsump'): 0.5223248514053862, ('HighBP', 'HighChol', 'Smoker', 'PhysActivity', 'HvyAlcoholConsump'): 0.4869607414986539, ('HighBP', 'HighChol', 'Stroke', 'HeartDiseaseorAttack', 'PhysActivity'): 0.6679266366327669, ('HighBP', 'HighChol', 'Stroke', 'HeartDiseaseorAttack', 'HvyAlcoholConsump'): 0.7088530239655797, ('HighBP', 'HighChol', 'Stroke', 'PhysActivity', 'HvyAlcoholConsump'): 0.6701434971492952, ('HighBP', 'HighChol', 'HeartDiseaseorAttack', 'PhysActivity', 'HvyAlcoholConsump'): 0.6686378562246105, ('HighBP', 'CholCheck', 'Smoker', 'Stroke', 'HeartDiseaseorAttack'): 0.6805345167519714, ('HighBP', 'CholCheck', 'Smoker', 'Stroke', 'PhysActivity'): 0.6446124198383976, ('HighBP', 'CholCheck', 'Smoker', 'Stroke', 'HvyAlcoholConsump'): 0.6794432690745593, ('HighBP', 'CholCheck', 'Smoker', 'HeartDiseaseorAttack', 'PhysActivity'): 0.6435197817541288, ('HighBP', 'CholCheck', 'Smoker', 'HeartDiseaseorAttack', 'HvyAlcoholConsump'): 0.6828354913590319, ('HighBP', 'CholCheck', 'Smoker', 'PhysActivity', 'HvyAlcoholConsump'): 0.6456619519214736, ('HighBP', 'CholCheck', 'Stroke', 'HeartDiseaseorAttack', 'PhysActivity'): 0.8443322263688535, ('HighBP', 'CholCheck', 'Stroke', 'HeartDiseaseorAttack', 'HvyAlcoholConsump'): 0.8545974345824463, ('HighBP', 'CholCheck', 'Stroke', 'PhysActivity', 'HvyAlcoholConsump'): 0.8383931912190596, ('HighBP', 'CholCheck', 'HeartDiseaseorAttack', 'PhysActivity', 'HvyAlcoholConsump'): 0.8495227389803096, ('HighBP', 'Smoker', 'Stroke', 'HeartDiseaseorAttack', 'PhysActivity'): 0.644939985810286, ('HighBP', 'Smoker', 'Stroke', 'HeartDiseaseorAttack', 'HvyAlcoholConsump'): 0.6853579224782809, ('HighBP', 'Smoker', 'Stroke', 'PhysActivity', 'HvyAlcoholConsump'): 0.6472586254438915, ('HighBP', 'Smoker', 'HeartDiseaseorAttack', 'PhysActivity', 'HvyAlcoholConsump'): 0.6455501138815797, ('HighBP', 'Stroke', 'HeartDiseaseorAttack', 'PhysActivity', 'HvyAlcoholConsump'): 0.8543516078921944, ('HighChol', 'CholCheck', 'Smoker', 'Stroke', 'HeartDiseaseorAttack'): 0.6795107098596321, ('HighChol', 'CholCheck', 'Smoker', 'Stroke', 'PhysActivity'): 0.6436082777416648, ('HighChol', 'CholCheck', 'Smoker', 'Stroke', 'HvyAlcoholConsump'): 0.6784353320749584, ('HighChol', 'CholCheck', 'Smoker', 'HeartDiseaseorAttack', 'PhysActivity'): 0.6425032591953169, ('HighChol', 'CholCheck', 'Smoker', 'HeartDiseaseorAttack', 'HvyAlcoholConsump'): 0.6818010212990341, ('HighChol', 'CholCheck', 'Smoker', 'PhysActivity', 'HvyAlcoholConsump'): 0.6446509782077143, ('HighChol', 'CholCheck', 'Stroke', 'HeartDiseaseorAttack', 'PhysActivity'): 0.8431308933910726, ('HighChol', 'CholCheck', 'Stroke', 'HeartDiseaseorAttack', 'HvyAlcoholConsump'): 0.8534901400704897, ('HighChol', 'CholCheck', 'Stroke', 'PhysActivity', 'HvyAlcoholConsump'): 0.8372237220151804, ('HighChol', 'CholCheck', 'HeartDiseaseorAttack', 'PhysActivity', 'HvyAlcoholConsump'): 0.8483020502503276, ('HighChol', 'Smoker', 'Stroke', 'HeartDiseaseorAttack', 'PhysActivity'): 0.643918321799859, ('HighChol', 'Smoker', 'Stroke', 'HeartDiseaseorAttack', 'HvyAlcoholConsump'): 0.6843144666409794, ('HighChol', 'Smoker', 'Stroke', 'PhysActivity', 'HvyAlcoholConsump'): 0.6462416053022706, ('HighChol', 'Smoker', 'HeartDiseaseorAttack', 'PhysActivity', 'HvyAlcoholConsump'): 0.6445239440313975, ('HighChol', 'Stroke', 'HeartDiseaseorAttack', 'PhysActivity', 'HvyAlcoholConsump'): 0.8531152942845586, ('CholCheck', 'Smoker', 'Stroke', 'HeartDiseaseorAttack', 'PhysActivity'): 0.8167601241610943, ('CholCheck', 'Smoker', 'Stroke', 'HeartDiseaseorAttack', 'HvyAlcoholConsump'): 0.8289714228799557, ('CholCheck', 'Smoker', 'Stroke', 'PhysActivity', 'HvyAlcoholConsump'): 0.8115065845271603, ('CholCheck', 'Smoker', 'HeartDiseaseorAttack', 'PhysActivity', 'HvyAlcoholConsump'): 0.8215299005731571, ('CholCheck', 'Stroke', 'HeartDiseaseorAttack', 'PhysActivity', 'HvyAlcoholConsump'): 0.9764531852640801, ('Smoker', 'Stroke', 'HeartDiseaseorAttack', 'PhysActivity', 'HvyAlcoholConsump'): 0.8260174270080975, ('HighBP', 'HighChol', 'CholCheck', 'Smoker', 'Stroke', 'HeartDiseaseorAttack'): 0.5286530317850359, ('HighBP', 'HighChol', 'CholCheck', 'Smoker', 'Stroke', 'PhysActivity'): 0.48792592896567794, ('HighBP', 'HighChol', 'CholCheck', 'Smoker', 'Stroke', 'HvyAlcoholConsump'): 0.5330483384992074, ('HighBP', 'HighChol', 'CholCheck', 'Smoker', 'HeartDiseaseorAttack', 'PhysActivity'): 0.481295354892165, ('HighBP', 'HighChol', 'CholCheck', 'Smoker', 'HeartDiseaseorAttack', 'HvyAlcoholConsump'): 0.5277411974497834, ('HighBP', 'HighChol', 'CholCheck', 'Smoker', 'PhysActivity', 'HvyAlcoholConsump'): 0.486614799340255, ('HighBP', 'HighChol', 'CholCheck', 'Stroke', 'HeartDiseaseorAttack', 'PhysActivity'): 0.6810216739105726, ('HighBP', 'HighChol', 'CholCheck', 'Stroke', 'HeartDiseaseorAttack', 'HvyAlcoholConsump'): 0.7287278305860474, ('HighBP', 'HighChol', 'CholCheck', 'Stroke', 'PhysActivity', 'HvyAlcoholConsump'): 0.6847533223119792, ('HighBP', 'HighChol', 'CholCheck', 'HeartDiseaseorAttack', 'PhysActivity', 'HvyAlcoholConsump'): 0.6808283100745797, ('HighBP', 'HighChol', 'Smoker', 'Stroke', 'HeartDiseaseorAttack', 'PhysActivity'): 0.4808749195806387, ('HighBP', 'HighChol', 'Smoker', 'Stroke', 'HeartDiseaseorAttack', 'HvyAlcoholConsump'): 0.5277072436259556, ('HighBP', 'HighChol', 'Smoker', 'Stroke', 'PhysActivity', 'HvyAlcoholConsump'): 0.48625780925299555, ('HighBP', 'HighChol', 'Smoker', 'HeartDiseaseorAttack', 'PhysActivity', 'HvyAlcoholConsump'): 0.47941085218451407, ('HighBP', 'HighChol', 'Stroke', 'HeartDiseaseorAttack', 'PhysActivity', 'HvyAlcoholConsump'): 0.6814962716785615, ('HighBP', 'CholCheck', 'Smoker', 'Stroke', 'HeartDiseaseorAttack', 'PhysActivity'): 0.6571605886213048, ('HighBP', 'CholCheck', 'Smoker', 'Stroke', 'HeartDiseaseorAttack', 'HvyAlcoholConsump'): 0.7040815834706969, ('HighBP', 'CholCheck', 'Smoker', 'Stroke', 'PhysActivity', 'HvyAlcoholConsump'): 0.6609523243499908, ('HighBP', 'CholCheck', 'Smoker', 'HeartDiseaseorAttack', 'PhysActivity', 'HvyAlcoholConsump'): 0.6568765929750369, ('HighBP', 'CholCheck', 'Stroke', 'HeartDiseaseorAttack', 'PhysActivity', 'HvyAlcoholConsump'): 0.8849705145578414, ('HighBP', 'Smoker', 'Stroke', 'HeartDiseaseorAttack', 'PhysActivity', 'HvyAlcoholConsump'): 0.6574500823256256, ('HighChol', 'CholCheck', 'Smoker', 'Stroke', 'HeartDiseaseorAttack', 'PhysActivity'): 0.6560994216508647, ('HighChol', 'CholCheck', 'Smoker', 'Stroke', 'HeartDiseaseorAttack', 'HvyAlcoholConsump'): 0.7029864123993113, ('HighChol', 'CholCheck', 'Smoker', 'Stroke', 'PhysActivity', 'HvyAlcoholConsump'): 0.6598940250033555, ('HighChol', 'CholCheck', 'Smoker', 'HeartDiseaseorAttack', 'PhysActivity', 'HvyAlcoholConsump'): 0.6558112969545741, ('HighChol', 'CholCheck', 'Stroke', 'HeartDiseaseorAttack', 'PhysActivity', 'HvyAlcoholConsump'): 0.8836534855068541, ('HighChol', 'Smoker', 'Stroke', 'HeartDiseaseorAttack', 'PhysActivity', 'HvyAlcoholConsump'): 0.656380514438753, ('CholCheck', 'Smoker', 'Stroke', 'HeartDiseaseorAttack', 'PhysActivity', 'HvyAlcoholConsump'): 0.8548554809336256, ('HighBP', 'HighChol', 'CholCheck', 'Smoker', 'Stroke', 'HeartDiseaseorAttack', 'PhysActivity'): 0.4844209079506004, ('HighBP', 'HighChol', 'CholCheck', 'Smoker', 'Stroke', 'HeartDiseaseorAttack', 'HvyAlcoholConsump'): 0.5341823948777111, ('HighBP', 'HighChol', 'CholCheck', 'Smoker', 'Stroke', 'PhysActivity', 'HvyAlcoholConsump'): 0.49049597129720607, ('HighBP', 'HighChol', 'CholCheck', 'Smoker', 'HeartDiseaseorAttack', 'PhysActivity', 'HvyAlcoholConsump'): 0.4825256158946998, ('HighBP', 'HighChol', 'CholCheck', 'Stroke', 'HeartDiseaseorAttack', 'PhysActivity', 'HvyAlcoholConsump'): 0.6929769197958513, ('HighBP', 'HighChol', 'Smoker', 'Stroke', 'HeartDiseaseorAttack', 'PhysActivity', 'HvyAlcoholConsump'): 0.48170607738472265, ('HighBP', 'CholCheck', 'Smoker', 'Stroke', 'HeartDiseaseorAttack', 'PhysActivity', 'HvyAlcoholConsump'): 0.6682235469019101, ('HighChol', 'CholCheck', 'Smoker', 'Stroke', 'HeartDiseaseorAttack', 'PhysActivity', 'HvyAlcoholConsump'): 0.6671221988809555, ('HighBP', 'HighChol', 'CholCheck', 'Smoker', 'Stroke', 'HeartDiseaseorAttack', 'PhysActivity', 'HvyAlcoholConsump'): 0.48456306779220554}\n",
      "Total number of shared entropy combination: 255\n"
     ]
    }
   ],
   "source": [
    "\n",
    "shared_entropy_dict = {}\n",
    "count=0\n",
    "for i in range(1, len(features) + 1):\n",
    "    for combo in combinations(features, i):\n",
    "        s = shared_entropy(combo)\n",
    "        shared_entropy_dict[combo] = s\n",
    "        count+=1\n",
    "\n",
    "print(shared_entropy_dict)\n",
    "print(f\"Total number of shared entropy combination: {count}\")"
   ]
  },
  {
   "cell_type": "code",
   "execution_count": 9,
   "id": "2efa42e6",
   "metadata": {
    "scrolled": true
   },
   "outputs": [
    {
     "name": "stdout",
     "output_type": "stream",
     "text": [
      "{('HighBP',): 0.9842142733250672, ('HighChol',): 0.9847198017633687, ('Smoker',): 0.9935353333906434, ('HighBP', 'HighChol'): 0.9938527884951236, ('HighBP', 'Smoker'): 0.9950065445405185, ('HighBP', 'PhysActivity'): 0.9067825491277078, ('HighChol', 'Smoker'): 0.9951618464722404, ('HighChol', 'PhysActivity'): 0.9065155536058762, ('Smoker', 'PhysActivity'): 0.8997596677021438, ('HeartDiseaseorAttack', 'PhysActivity', 'HvyAlcoholConsump'): 0.8149828027910158, ('HighBP', 'CholCheck', 'HeartDiseaseorAttack', 'PhysActivity'): 0.8037968736885579, ('HighBP', 'Stroke', 'HeartDiseaseorAttack', 'PhysActivity'): 0.8104025683348469, ('HighBP', 'Stroke', 'HeartDiseaseorAttack', 'HvyAlcoholConsump'): 0.8063280623688743, ('HighBP', 'Stroke', 'PhysActivity', 'HvyAlcoholConsump'): 0.8013527266983422, ('HighBP', 'HeartDiseaseorAttack', 'PhysActivity', 'HvyAlcoholConsump'): 0.8174129838494396, ('HighChol', 'CholCheck', 'HeartDiseaseorAttack', 'PhysActivity'): 0.8027093772381574, ('HighChol', 'Stroke', 'HeartDiseaseorAttack', 'PhysActivity'): 0.8092973646544721, ('HighChol', 'Stroke', 'HeartDiseaseorAttack', 'HvyAlcoholConsump'): 0.8053443485707278, ('HighChol', 'Stroke', 'PhysActivity', 'HvyAlcoholConsump'): 0.8002835250030278, ('HighChol', 'HeartDiseaseorAttack', 'PhysActivity', 'HvyAlcoholConsump'): 0.8162873254721762, ('CholCheck', 'Stroke', 'HeartDiseaseorAttack', 'PhysActivity'): 0.8712506155262063, ('CholCheck', 'Stroke', 'PhysActivity', 'HvyAlcoholConsump'): 0.8392295086410873, ('CholCheck', 'HeartDiseaseorAttack', 'PhysActivity', 'HvyAlcoholConsump'): 0.8899142368571187, ('Stroke', 'HeartDiseaseorAttack', 'PhysActivity', 'HvyAlcoholConsump'): 0.9047012865967223, ('HighBP', 'CholCheck', 'Stroke', 'HeartDiseaseorAttack', 'PhysActivity'): 0.8443322263688535, ('HighBP', 'CholCheck', 'Stroke', 'HeartDiseaseorAttack', 'HvyAlcoholConsump'): 0.8545974345824463, ('HighBP', 'CholCheck', 'Stroke', 'PhysActivity', 'HvyAlcoholConsump'): 0.8383931912190596, ('HighBP', 'CholCheck', 'HeartDiseaseorAttack', 'PhysActivity', 'HvyAlcoholConsump'): 0.8495227389803096, ('HighBP', 'Stroke', 'HeartDiseaseorAttack', 'PhysActivity', 'HvyAlcoholConsump'): 0.8543516078921944, ('HighChol', 'CholCheck', 'Stroke', 'HeartDiseaseorAttack', 'PhysActivity'): 0.8431308933910726, ('HighChol', 'CholCheck', 'Stroke', 'HeartDiseaseorAttack', 'HvyAlcoholConsump'): 0.8534901400704897, ('HighChol', 'CholCheck', 'Stroke', 'PhysActivity', 'HvyAlcoholConsump'): 0.8372237220151804, ('HighChol', 'CholCheck', 'HeartDiseaseorAttack', 'PhysActivity', 'HvyAlcoholConsump'): 0.8483020502503276, ('HighChol', 'Stroke', 'HeartDiseaseorAttack', 'PhysActivity', 'HvyAlcoholConsump'): 0.8531152942845586, ('CholCheck', 'Smoker', 'Stroke', 'HeartDiseaseorAttack', 'PhysActivity'): 0.8167601241610943, ('CholCheck', 'Smoker', 'Stroke', 'HeartDiseaseorAttack', 'HvyAlcoholConsump'): 0.8289714228799557, ('CholCheck', 'Smoker', 'Stroke', 'PhysActivity', 'HvyAlcoholConsump'): 0.8115065845271603, ('CholCheck', 'Smoker', 'HeartDiseaseorAttack', 'PhysActivity', 'HvyAlcoholConsump'): 0.8215299005731571, ('CholCheck', 'Stroke', 'HeartDiseaseorAttack', 'PhysActivity', 'HvyAlcoholConsump'): 0.9764531852640801, ('Smoker', 'Stroke', 'HeartDiseaseorAttack', 'PhysActivity', 'HvyAlcoholConsump'): 0.8260174270080975, ('HighBP', 'CholCheck', 'Stroke', 'HeartDiseaseorAttack', 'PhysActivity', 'HvyAlcoholConsump'): 0.8849705145578414, ('HighChol', 'CholCheck', 'Stroke', 'HeartDiseaseorAttack', 'PhysActivity', 'HvyAlcoholConsump'): 0.8836534855068541, ('CholCheck', 'Smoker', 'Stroke', 'HeartDiseaseorAttack', 'PhysActivity', 'HvyAlcoholConsump'): 0.8548554809336256}\n",
      "Total number of selected feature combinations: 43\n"
     ]
    }
   ],
   "source": [
    "threshold = 0.8\n",
    "selected_values = {}\n",
    "count=0\n",
    "for key, value in shared_entropy_dict.items():\n",
    "    if value >= threshold:\n",
    "        selected_values[key] = value\n",
    "        count+=1\n",
    "print(selected_values)\n",
    "print(f\"Total number of selected feature combinations: {count}\")"
   ]
  },
  {
   "cell_type": "code",
   "execution_count": 10,
   "id": "051e10ab",
   "metadata": {},
   "outputs": [
    {
     "name": "stdout",
     "output_type": "stream",
     "text": [
      "{('HighBP', 'PhysActivity'), ('HighBP', 'Smoker'), ('HighChol', 'PhysActivity'), ('CholCheck', 'Smoker', 'Stroke', 'HeartDiseaseorAttack', 'PhysActivity', 'HvyAlcoholConsump'), ('Smoker', 'PhysActivity'), ('HighChol', 'Smoker'), ('HighChol', 'CholCheck', 'Stroke', 'HeartDiseaseorAttack', 'PhysActivity', 'HvyAlcoholConsump'), ('HighBP', 'HighChol'), ('HighBP', 'CholCheck', 'Stroke', 'HeartDiseaseorAttack', 'PhysActivity', 'HvyAlcoholConsump')}\n",
      "Total number of features: 8\n"
     ]
    }
   ],
   "source": [
    "\n",
    "parents = [k for k in selected_values.keys() if len(k) == 1]\n",
    "\n",
    "children = [k for k in selected_values.keys() if len(k) > 1]\n",
    "count1=0\n",
    "\n",
    "for p in parents:\n",
    "   \n",
    "    for k in children:\n",
    "       \n",
    "        if k != p and set(p).issubset(set(k)):\n",
    "            parents.remove(p)\n",
    "            break\n",
    "\n",
    "\n",
    "new_dict = {}\n",
    "for k, v in d.items():\n",
    "    if k in parents or k in children:\n",
    "        \n",
    "        new_dict[k] = v\n",
    "        count1+=1\n",
    "\n",
    "\n",
    "print(new_dict)\n",
    "print(f\"Total number of features: \",count1)\n"
   ]
  },
  {
   "cell_type": "code",
   "execution_count": 11,
   "id": "8767cec0",
   "metadata": {},
   "outputs": [],
   "source": [
    "import matplotlib.pyplot as plt\n",
    "import hypernetx as hnx"
   ]
  },
  {
   "cell_type": "code",
   "execution_count": 12,
   "id": "90545059",
   "metadata": {},
   "outputs": [],
   "source": [
    "# h = hnx.Hypergraph(new_dict)\n",
    "\n"
   ]
  },
  {
   "cell_type": "code",
   "execution_count": 13,
   "id": "63a8e5d9",
   "metadata": {},
   "outputs": [
    {
     "data": {
      "image/png": "[encoded data removed]",
      "text/plain": [
       "<Figure size 576x576 with 1 Axes>"
      ]
     },
     "metadata": {
      "needs_background": "light"
     },
     "output_type": "display_data"
    }
   ],
   "source": [
    "h=hnx.Hypergraph(new_dict)\n",
    "hnx.draw(h)"
   ]
  },
  {
   "cell_type": "code",
   "execution_count": 14,
   "id": "3a7e6bfb",
   "metadata": {},
   "outputs": [
    {
     "data": {
      "text/plain": [
       "EntitySet(:Nodes,['PhysActivity', 'HighChol', 'Stroke', 'HighBP', 'CholCheck', 'HvyAlcoholConsump', 'Smoker', 'HeartDiseaseorAttack'],{'weight': 1.0})"
      ]
     },
     "execution_count": 14,
     "metadata": {},
     "output_type": "execute_result"
    }
   ],
   "source": [
    "h.nodes"
   ]
  },
  {
   "cell_type": "code",
   "execution_count": 15,
   "id": "d8ab44a8",
   "metadata": {},
   "outputs": [
    {
     "data": {
      "text/plain": [
       "['HighBP',\n",
       " 'HighChol',\n",
       " 'Smoker',\n",
       " 'PhysActivity',\n",
       " 'CholCheck',\n",
       " 'Stroke',\n",
       " 'HeartDiseaseorAttack',\n",
       " 'HvyAlcoholConsump']"
      ]
     },
     "execution_count": 15,
     "metadata": {},
     "output_type": "execute_result"
    }
   ],
   "source": [
    "list(h.nodes)"
   ]
  },
  {
   "cell_type": "code",
   "execution_count": 16,
   "id": "259e4334",
   "metadata": {},
   "outputs": [
    {
     "data": {
      "text/plain": [
       "[0, 1, 2, 3, 4, 5, 6, 7, 8]"
      ]
     },
     "execution_count": 16,
     "metadata": {},
     "output_type": "execute_result"
    }
   ],
   "source": [
    "list(h.edges)"
   ]
  },
  {
   "cell_type": "code",
   "execution_count": 17,
   "id": "4e9e0a4c",
   "metadata": {},
   "outputs": [
    {
     "data": {
      "text/plain": [
       "EntitySet(:Edges,[0, 1, 2, 3, 4, 5, 6, 7, 8],{'weight': 1.0})"
      ]
     },
     "execution_count": 17,
     "metadata": {},
     "output_type": "execute_result"
    }
   ],
   "source": [
    "h.edges"
   ]
  },
  {
   "cell_type": "code",
   "execution_count": 18,
   "id": "68c1298c",
   "metadata": {},
   "outputs": [
    {
     "data": {
      "text/plain": [
       "{0: {'HighBP', 'HighChol'},\n",
       " 1: {'HighBP', 'Smoker'},\n",
       " 2: {'HighBP', 'PhysActivity'},\n",
       " 3: {'HighChol', 'Smoker'},\n",
       " 4: {'HighChol', 'PhysActivity'},\n",
       " 5: {'PhysActivity', 'Smoker'},\n",
       " 6: {'CholCheck',\n",
       "  'HeartDiseaseorAttack',\n",
       "  'HighBP',\n",
       "  'HvyAlcoholConsump',\n",
       "  'PhysActivity',\n",
       "  'Stroke'},\n",
       " 7: {'CholCheck',\n",
       "  'HeartDiseaseorAttack',\n",
       "  'HighChol',\n",
       "  'HvyAlcoholConsump',\n",
       "  'PhysActivity',\n",
       "  'Stroke'},\n",
       " 8: {'CholCheck',\n",
       "  'HeartDiseaseorAttack',\n",
       "  'HvyAlcoholConsump',\n",
       "  'PhysActivity',\n",
       "  'Smoker',\n",
       "  'Stroke'}}"
      ]
     },
     "execution_count": 18,
     "metadata": {},
     "output_type": "execute_result"
    }
   ],
   "source": [
    "h.incidence_dict"
   ]
  },
  {
   "cell_type": "code",
   "execution_count": 19,
   "id": "08f71988",
   "metadata": {},
   "outputs": [],
   "source": [
    "import hypernetx as hnx\n",
    "# Create hypergraph from sets in new_dict\n",
    "h = hnx.Hypergraph.from_sets(new_dict)\n",
    "# Extract nodes and edges\n",
    "nodes_to_idx = list(h.nodes)\n",
    "edges_to_idx = list(h.edges)\n"
   ]
  },
  {
   "cell_type": "code",
   "execution_count": 20,
   "id": "e61f3653",
   "metadata": {},
   "outputs": [
    {
     "name": "stdout",
     "output_type": "stream",
     "text": [
      "[[1 1 1 0 0 0 1 0 0]\n",
      " [1 0 0 1 1 0 0 1 0]\n",
      " [0 1 0 1 0 1 0 0 1]\n",
      " [0 0 1 0 1 1 1 1 1]\n",
      " [0 0 0 0 0 0 1 1 1]\n",
      " [0 0 0 0 0 0 1 1 1]\n",
      " [0 0 0 0 0 0 1 1 1]\n",
      " [0 0 0 0 0 0 1 1 1]]\n"
     ]
    }
   ],
   "source": [
    "# Create an empty incidence matrix \n",
    "incidence_matrix = np.zeros((8, 9), dtype=int)\n",
    "\n",
    "# Fill in the incidence matrix\n",
    "for edge, idx in edge_to_idx.items():\n",
    "    for vertex in edge:\n",
    "        incidence_matrix[vertex_to_idx[vertex], idx] = 1\n",
    "print(incidence_matrix)\n"
   ]
  },
  {
   "cell_type": "code",
   "execution_count": 21,
   "id": "164c258b",
   "metadata": {},
   "outputs": [
    {
     "name": "stdout",
     "output_type": "stream",
     "text": [
      "[[1 1 0 0 0 0 0 0]\n",
      " [1 0 1 0 0 0 0 0]\n",
      " [1 0 0 1 0 0 0 0]\n",
      " [0 1 1 0 0 0 0 0]\n",
      " [0 1 0 1 0 0 0 0]\n",
      " [0 0 1 1 0 0 0 0]\n",
      " [1 0 0 1 1 1 1 1]\n",
      " [0 1 0 1 1 1 1 1]\n",
      " [0 0 1 1 1 1 1 1]]\n"
     ]
    }
   ],
   "source": [
    "incidence_matrix_transpose = np.transpose(incidence_matrix)\n",
    "print(incidence_matrix_transpose)"
   ]
  },
  {
   "cell_type": "code",
   "execution_count": 22,
   "id": "3e355567",
   "metadata": {},
   "outputs": [
    {
     "name": "stdout",
     "output_type": "stream",
     "text": [
      "[[0.99382 0.      0.      0.      0.      0.      0.      0.      0.     ]\n",
      " [0.      0.995   0.      0.      0.      0.      0.      0.      0.     ]\n",
      " [0.      0.      0.90678 0.      0.      0.      0.      0.      0.     ]\n",
      " [0.      0.      0.      0.99516 0.      0.      0.      0.      0.     ]\n",
      " [0.      0.      0.      0.      0.90651 0.      0.      0.      0.     ]\n",
      " [0.      0.      0.      0.      0.      0.89975 0.      0.      0.     ]\n",
      " [0.      0.      0.      0.      0.      0.      0.80497 0.      0.     ]\n",
      " [0.      0.      0.      0.      0.      0.      0.      0.88365 0.     ]\n",
      " [0.      0.      0.      0.      0.      0.      0.      0.      0.85485]]\n"
     ]
    }
   ],
   "source": [
    "import numpy as np\n",
    "num_edges = len(edge_to_idx)\n",
    "# Create an empty weight matrix with num_edges rows and num_edges columns\n",
    "weight_matrix = np.zeros((num_edges, num_edges), dtype=float)\n",
    "# Fill in the diagonal with the weights of the edges\n",
    "for idx, weight in enumerate(weights):\n",
    "    weight_matrix[idx, idx] = weight\n",
    "print(weight_matrix)\n"
   ]
  },
  {
   "cell_type": "code",
   "execution_count": 23,
   "id": "9c2eab0e",
   "metadata": {},
   "outputs": [
    {
     "name": "stdout",
     "output_type": "stream",
     "text": [
      "[[3.70057 0.99382 0.995   1.71175 0.80497 0.80497 0.80497 0.80497]\n",
      " [0.99382 3.77914 0.99516 1.79016 0.88365 0.88365 0.88365 0.88365]\n",
      " [0.995   0.99516 3.74476 1.7546  0.85485 0.85485 0.85485 0.85485]\n",
      " [1.71175 1.79016 1.7546  5.25651 2.54347 2.54347 2.54347 2.54347]\n",
      " [0.80497 0.88365 0.85485 2.54347 2.54347 2.54347 2.54347 2.54347]\n",
      " [0.80497 0.88365 0.85485 2.54347 2.54347 2.54347 2.54347 2.54347]\n",
      " [0.80497 0.88365 0.85485 2.54347 2.54347 2.54347 2.54347 2.54347]\n",
      " [0.80497 0.88365 0.85485 2.54347 2.54347 2.54347 2.54347 2.54347]]\n"
     ]
    }
   ],
   "source": [
    "adjacent_matrix = np.dot(incidence_matrix, np.dot(weight_matrix, incidence_matrix_transpose))\n",
    "print(adjacent_matrix)"
   ]
  },
  {
   "cell_type": "code",
   "execution_count": 24,
   "id": "2d941951",
   "metadata": {},
   "outputs": [],
   "source": [
    "import numpy as np\n",
    "from sklearn.cluster import KMeans\n",
    "def CLGA(adj, k, max_iter=100, tol=1e-6):\n",
    "    n = adj.shape[0]    \n",
    "    # Initialize B using K-means clustering\n",
    "    kmeans = KMeans(n_clusters=k,random_state=0)\n",
    "    kmeans.fit(adj)\n",
    "    B = kmeans.cluster_centers_\n",
    "    B = B / np.linalg.norm(B, axis=1, keepdims=True)\n",
    "       # Initialize C using K-means clustering\n",
    "    kmeans = KMeans(n_clusters=k, random_state=0)\n",
    "    kmeans.fit(adj.T)\n",
    "    C = kmeans.cluster_centers_\n",
    "    C = C / np.linalg.norm(C, axis=1, keepdims=True)\n",
    "    C = C.T    \n",
    "    for i in range(max_iter):\n",
    "        # Update B\n",
    "        for h in range(n):\n",
    "            error = np.zeros(k)\n",
    "            for p in range(k):\n",
    "                error[p] = np.linalg.norm(adj[h,:] - B[:,p].dot(C[p,:]))**2\n",
    "            p_star = np.argmin(error)\n",
    "            Chp = np.zeros(k)\n",
    "            Chp[p_star] = 1\n",
    "            B[h,:] = Chp          \n",
    "        # Update C\n",
    "        B_T = B.T\n",
    "        regularization = 1e-6 * np.identity(k)\n",
    "        C = np.linalg.inv(B_T.dot(B) + regularization).dot(B_T.dot(adj))\n",
    "        \n",
    "        # Check stopping criterion\n",
    "        if np.linalg.norm(adj - B.dot(C.T)) < tol:\n",
    "            break  \n",
    "    # Generate partition membership matrix and feature cluster\n",
    "    partition_membership = np.zeros((n, k))\n",
    "    for i in range(n):\n",
    "        partition_membership[i, np.argmax(B[i,:])] = 1\n",
    "    feature_cluster = np.argmax(C, axis=0) \n",
    "    return partition_membership, feature_cluster"
   ]
  },
  {
   "cell_type": "code",
   "execution_count": 25,
   "id": "066a56ae",
   "metadata": {},
   "outputs": [
    {
     "name": "stderr",
     "output_type": "stream",
     "text": [
      "C:\\Users\\sephy\\anaconda3\\lib\\site-packages\\sklearn\\cluster\\_kmeans.py:870: FutureWarning: The default value of `n_init` will change from 10 to 'auto' in 1.4. Set the value of `n_init` explicitly to suppress the warning\n",
      "  warnings.warn(\n",
      "C:\\Users\\sephy\\anaconda3\\lib\\site-packages\\sklearn\\cluster\\_kmeans.py:1382: UserWarning: KMeans is known to have a memory leak on Windows with MKL, when there are less chunks than available threads. You can avoid it by setting the environment variable OMP_NUM_THREADS=1.\n",
      "  warnings.warn(\n",
      "C:\\Users\\sephy\\AppData\\Local\\Temp/ipykernel_12464/2057044898.py:9: ConvergenceWarning: Number of distinct clusters (5) found smaller than n_clusters (8). Possibly due to duplicate points in X.\n",
      "  kmeans.fit(adj)\n",
      "C:\\Users\\sephy\\anaconda3\\lib\\site-packages\\sklearn\\cluster\\_kmeans.py:870: FutureWarning: The default value of `n_init` will change from 10 to 'auto' in 1.4. Set the value of `n_init` explicitly to suppress the warning\n",
      "  warnings.warn(\n",
      "C:\\Users\\sephy\\anaconda3\\lib\\site-packages\\sklearn\\cluster\\_kmeans.py:1382: UserWarning: KMeans is known to have a memory leak on Windows with MKL, when there are less chunks than available threads. You can avoid it by setting the environment variable OMP_NUM_THREADS=1.\n",
      "  warnings.warn(\n",
      "C:\\Users\\sephy\\AppData\\Local\\Temp/ipykernel_12464/2057044898.py:15: ConvergenceWarning: Number of distinct clusters (5) found smaller than n_clusters (8). Possibly due to duplicate points in X.\n",
      "  kmeans.fit(adj.T)\n"
     ]
    }
   ],
   "source": [
    "partition_membership, feature_cluster=CLGA(adjacent_matrix,8,max_iter=100,tol=1e-6)"
   ]
  },
  {
   "cell_type": "code",
   "execution_count": 26,
   "id": "dd372a5f",
   "metadata": {},
   "outputs": [
    {
     "data": {
      "text/plain": [
       "array([[1., 0., 0., 0., 0., 0., 0., 0.],\n",
       "       [0., 1., 0., 0., 0., 0., 0., 0.],\n",
       "       [0., 1., 0., 0., 0., 0., 0., 0.],\n",
       "       [1., 0., 0., 0., 0., 0., 0., 0.],\n",
       "       [0., 0., 1., 0., 0., 0., 0., 0.],\n",
       "       [0., 0., 0., 1., 0., 0., 0., 0.],\n",
       "       [1., 0., 0., 0., 0., 0., 0., 0.],\n",
       "       [0., 0., 0., 1., 0., 0., 0., 0.]])"
      ]
     },
     "execution_count": 26,
     "metadata": {},
     "output_type": "execute_result"
    }
   ],
   "source": [
    "partition_membership"
   ]
  },
  {
   "cell_type": "code",
   "execution_count": 27,
   "id": "581ac099",
   "metadata": {},
   "outputs": [
    {
     "data": {
      "text/plain": [
       "array([0, 1, 1, 0, 3, 3, 3, 3], dtype=int64)"
      ]
     },
     "execution_count": 27,
     "metadata": {},
     "output_type": "execute_result"
    }
   ],
   "source": [
    "feature_cluster"
   ]
  },
  {
   "cell_type": "code",
   "execution_count": 28,
   "id": "7824dae4",
   "metadata": {},
   "outputs": [
    {
     "name": "stdout",
     "output_type": "stream",
     "text": [
      "[[1 0 0 0 0 0 0 0]\n",
      " [0 1 0 0 0 0 0 0]\n",
      " [0 1 0 0 0 0 0 0]\n",
      " [1 0 0 0 0 0 0 0]\n",
      " [0 0 1 0 0 0 0 0]\n",
      " [0 0 0 1 0 0 0 0]\n",
      " [1 0 0 0 0 0 0 0]\n",
      " [0 0 0 1 0 0 0 0]]\n"
     ]
    }
   ],
   "source": [
    "partition_matrix = np.matrix(partition_membership.astype(int))\n",
    "\n",
    "print(partition_matrix)"
   ]
  },
  {
   "cell_type": "code",
   "execution_count": 29,
   "id": "aa900b2e",
   "metadata": {},
   "outputs": [],
   "source": [
    "feature_matrix = selected_features.values"
   ]
  },
  {
   "cell_type": "code",
   "execution_count": 30,
   "id": "373e1bd7",
   "metadata": {},
   "outputs": [
    {
     "data": {
      "text/plain": [
       "array([[1, 1, 1, ..., 0, 0, 0],\n",
       "       [0, 0, 1, ..., 0, 0, 0],\n",
       "       [1, 1, 0, ..., 0, 0, 0],\n",
       "       ...,\n",
       "       [0, 0, 1, ..., 0, 0, 0],\n",
       "       [1, 1, 0, ..., 0, 0, 0],\n",
       "       [0, 0, 0, ..., 0, 0, 0]], dtype=int64)"
      ]
     },
     "execution_count": 30,
     "metadata": {},
     "output_type": "execute_result"
    }
   ],
   "source": [
    "feature_matrix"
   ]
  },
  {
   "cell_type": "code",
   "execution_count": 31,
   "id": "f5bae64c",
   "metadata": {},
   "outputs": [],
   "source": [
    "#optimal feature subset generation\n",
    "import numpy as np\n",
    "import pandas as pd\n",
    "from sklearn.decomposition import PCA\n",
    "from sklearn.svm import SVC\n",
    "from sklearn.model_selection import cross_val_score\n",
    "from mlxtend.feature_selection import SequentialFeatureSelector as SFS\n",
    "\n",
    "def feature_selection(X, y, clusters,feature_names, n_components=1, n_features=1, scoring_func=None):\n",
    "    if scoring_func is None:\n",
    "        scoring_func = SVC(kernel='linear')\n",
    "        print(scoring_func)\n",
    "    # Initialize a list to store the selected features\n",
    "    selected_features = []\n",
    "\n",
    "    # Loop through each feature cluster\n",
    "    for cluster in clusters:\n",
    "        # Ensure that the cluster is a 2D array\n",
    "        cluster = np.array(cluster)\n",
    "        if cluster.ndim == 1:\n",
    "            cluster = cluster.reshape(-1, 1)\n",
    "        # Dimensionality reduction for each cluster using PCA\n",
    "        pca = PCA(n_components=n_components)\n",
    "        X_cluster = X[:, cluster]\n",
    "        X_cluster = X_cluster.reshape(-1, 1)\n",
    "        X_reduced = pca.fit_transform(X_cluster)\n",
    "\n",
    "\n",
    "        # Initialize the SFS object\n",
    "        sfs = SFS(estimator=scoring_func, k_features=n_features, forward=True, floating=False)\n",
    "\n",
    "        # Fit the SFS object to the reduced data\n",
    "        sfs.fit(X_reduced, y)\n",
    "\n",
    "        # Get the selected features\n",
    "        selected = [cluster.flatten()[sfs.k_feature_idx_]]\n",
    "\n",
    "\n",
    "        # Add the selected features to the list of selected features\n",
    "        if selected[0] not in selected_features:\n",
    "            selected_features.extend(selected)\n",
    "        \n",
    "    selected_feature_names = [feature_names[idx] for idx in selected_features]\n",
    "    print(\"Selected Features:\", selected_feature_names)\n",
    "    return selected_features,scoring_func\n"
   ]
  },
  {
   "cell_type": "code",
   "execution_count": 32,
   "id": "b2032c34",
   "metadata": {},
   "outputs": [
    {
     "name": "stdout",
     "output_type": "stream",
     "text": [
      "Selected Features: ['HighBP', 'HighChol', 'PhysActivity']\n"
     ]
    }
   ],
   "source": [
    "selected_features,scoring_func = feature_selection(feature_matrix, y, feature_clusters,feature_names, n_components=1, n_features=1, scoring_func=SVC(kernel='linear'))"
   ]
  },
  {
   "cell_type": "code",
   "execution_count": 35,
   "id": "2e746a23",
   "metadata": {},
   "outputs": [
    {
     "name": "stdout",
     "output_type": "stream",
     "text": [
      "Accuracy: 87.469\n"
     ]
    },
    {
     "name": "stderr",
     "output_type": "stream",
     "text": [
      "C:\\Users\\sephy\\anaconda3\\lib\\site-packages\\sklearn\\metrics\\_classification.py:1344: UndefinedMetricWarning: Precision is ill-defined and being set to 0.0 due to no predicted samples. Use `zero_division` parameter to control this behavior.\n",
      "  _warn_prf(average, modifier, msg_start, len(result))\n"
     ]
    }
   ],
   "source": [
    "from sklearn.model_selection import train_test_split\n",
    "from sklearn.svm import SVC\n",
    "from sklearn.metrics import accuracy_score, precision_score, recall_score, f1_score\n",
    "# Split the data into training and testing sets\n",
    "X_train, X_test, y_train, y_test = train_test_split(X, y, test_size=0.2)\n",
    "# Train the SVM classifier\n",
    "clf = SVC(kernel='linear')\n",
    "clf.fit(X_train, y_train)\n",
    "# Make predictions on the test set\n",
    "y_pred = clf.predict(X_test)\n",
    "# Calculate the accuracy, precision, recall, and F1 score of the classifier\n",
    "accuracy = accuracy_score(y_test, y_pred)\n",
    "print(\"Accuracy:\",accuracy*100)"
   ]
  },
  {
   "cell_type": "code",
   "execution_count": 44,
   "id": "20047ca5",
   "metadata": {},
   "outputs": [
    {
     "name": "stdout",
     "output_type": "stream",
     "text": [
      "Optimization terminated successfully.\n",
      "         Current function value: 0.345285\n",
      "         Iterations 7\n",
      "                      Odds Ratio        P-value\n",
      "HighBP                  4.043322  3.644779e-267\n",
      "HighChol                1.960396   2.098943e-74\n",
      "CholCheck               2.668665   4.653556e-08\n",
      "Smoker                  1.079398   2.931358e-02\n",
      "Stroke                  1.630469   1.959760e-13\n",
      "HeartDiseaseorAttack    1.841293   6.159691e-37\n",
      "PhysActivity            0.930817   7.954153e-02\n",
      "HvyAlcoholConsump       0.941388   4.249195e-01\n",
      "['HighBP', 'HighChol', 'HeartDiseaseorAttack', 'Stroke', 'CholCheck', 'Smoker']\n"
     ]
    },
    {
     "name": "stderr",
     "output_type": "stream",
     "text": [
      "C:\\Users\\sephy\\anaconda3\\lib\\site-packages\\statsmodels\\tsa\\tsatools.py:142: FutureWarning: In a future version of pandas all arguments of concat except for the argument 'objs' will be keyword-only\n",
      "  x = pd.concat(x[::order], 1)\n"
     ]
    }
   ],
   "source": [
    "import pandas as pd\n",
    "import statsmodels.api as sm\n",
    "# Fit the logistic regression model\n",
    "X = sm.add_constant(X)  # Add a constant term to the predictors\n",
    "model = sm.Logit(y, X).fit()\n",
    "# Get the odds ratios and p-values of each predictor\n",
    "params = model.params[1:]\n",
    "odds_ratios = np.exp(params)\n",
    "p_values = model.pvalues[1:]\n",
    "results_df = pd.DataFrame({'Odds Ratio': odds_ratios, 'P-value': p_values})\n",
    "sorted_df = results_df.sort_values(by='P-value')\n",
    "results_df.index = X.columns[1:]\n",
    "print(results_df)\n",
    "# Select only the features with p-values below a certain threshold (e.g. 0.05)\n",
    "selected_features = sorted_df[sorted_df['P-value'] < 0.05].index\n",
    "print(selected_features.tolist())"
   ]
  },
  {
   "cell_type": "code",
   "execution_count": 46,
   "id": "3f81c706",
   "metadata": {},
   "outputs": [
    {
     "name": "stdout",
     "output_type": "stream",
     "text": [
      "Accuracy: 84.132\n"
     ]
    }
   ],
   "source": [
    "from sklearn.model_selection import train_test_split\n",
    "from sklearn.svm import SVC\n",
    "from sklearn.metrics import accuracy_score, precision_score, recall_score, f1_score\n",
    "# Split the data into training and testing sets\n",
    "\n",
    "X_train, X_test, y_train, y_test = train_test_split(X, y, test_size=0.2)\n",
    "\n",
    "# Train the SVM classifier\n",
    "clf = SVC(kernel='linear')\n",
    "clf.fit(X_train, y_train)\n",
    "\n",
    "# Make predictions on the test set\n",
    "y_pred = clf.predict(X_test)\n",
    "\n",
    "# Calculate the accuracy, precision, recall, and F1 score of the classifier\n",
    "accuracy = accuracy_score(y_test, y_pred)\n",
    "\n",
    "print(\"Accuracy:\",accuracy*100)"
   ]
  },
  {
   "cell_type": "code",
   "execution_count": null,
   "id": "5b73802d",
   "metadata": {},
   "outputs": [],
   "source": []
  },
  {
   "cell_type": "code",
   "execution_count": null,
   "id": "94a5a8b2",
   "metadata": {},
   "outputs": [],
   "source": []
  },
  {
   "cell_type": "code",
   "execution_count": null,
   "id": "4d1447d0",
   "metadata": {},
   "outputs": [],
   "source": []
  },
  {
   "cell_type": "code",
   "execution_count": null,
   "id": "bd3d3050",
   "metadata": {},
   "outputs": [],
   "source": []
  },
  {
   "cell_type": "code",
   "execution_count": null,
   "id": "752b8255",
   "metadata": {},
   "outputs": [],
   "source": []
  },
  {
   "cell_type": "code",
   "execution_count": null,
   "id": "9e2f6189",
   "metadata": {},
   "outputs": [],
   "source": []
  },
  {
   "cell_type": "code",
   "execution_count": null,
   "id": "3cd1134d",
   "metadata": {},
   "outputs": [],
   "source": []
  },
  {
   "cell_type": "code",
   "execution_count": null,
   "id": "dacee3ad",
   "metadata": {},
   "outputs": [],
   "source": []
  },
  {
   "cell_type": "code",
   "execution_count": null,
   "id": "27c8760a",
   "metadata": {},
   "outputs": [],
   "source": []
  },
  {
   "cell_type": "code",
   "execution_count": null,
   "id": "e23dfc24",
   "metadata": {},
   "outputs": [],
   "source": []
  },
  {
   "cell_type": "code",
   "execution_count": null,
   "id": "884820d6",
   "metadata": {},
   "outputs": [],
   "source": []
  },
  {
   "cell_type": "code",
   "execution_count": null,
   "id": "ddaaaa45",
   "metadata": {},
   "outputs": [],
   "source": []
  },
  {
   "cell_type": "code",
   "execution_count": null,
   "id": "5dc1983c",
   "metadata": {},
   "outputs": [],
   "source": []
  },
  {
   "cell_type": "code",
   "execution_count": null,
   "id": "50bcf1a2",
   "metadata": {},
   "outputs": [],
   "source": []
  },
  {
   "cell_type": "code",
   "execution_count": null,
   "id": "7449811d",
   "metadata": {},
   "outputs": [],
   "source": []
  },
  {
   "cell_type": "code",
   "execution_count": null,
   "id": "506bd43c",
   "metadata": {},
   "outputs": [],
   "source": []
  },
  {
   "cell_type": "code",
   "execution_count": null,
   "id": "bd565915",
   "metadata": {},
   "outputs": [],
   "source": []
  },
  {
   "cell_type": "code",
   "execution_count": null,
   "id": "28dcca18",
   "metadata": {},
   "outputs": [],
   "source": []
  },
  {
   "cell_type": "code",
   "execution_count": null,
   "id": "d180fe2b",
   "metadata": {},
   "outputs": [],
   "source": []
  },
  {
   "cell_type": "code",
   "execution_count": null,
   "id": "23db5a53",
   "metadata": {},
   "outputs": [],
   "source": []
  },
  {
   "cell_type": "code",
   "execution_count": null,
   "id": "aaaade75",
   "metadata": {},
   "outputs": [],
   "source": []
  },
  {
   "cell_type": "code",
   "execution_count": null,
   "id": "9d1b3584",
   "metadata": {},
   "outputs": [],
   "source": []
  },
  {
   "cell_type": "code",
   "execution_count": null,
   "id": "25522b83",
   "metadata": {},
   "outputs": [],
   "source": []
  },
  {
   "cell_type": "code",
   "execution_count": null,
   "id": "6f2d6b80",
   "metadata": {},
   "outputs": [],
   "source": []
  },
  {
   "cell_type": "code",
   "execution_count": null,
   "id": "106bbad3",
   "metadata": {},
   "outputs": [],
   "source": []
  },
  {
   "cell_type": "code",
   "execution_count": null,
   "id": "538a5876",
   "metadata": {},
   "outputs": [],
   "source": []
  },
  {
   "cell_type": "code",
   "execution_count": null,
   "id": "438ae278",
   "metadata": {},
   "outputs": [],
   "source": []
  },
  {
   "cell_type": "code",
   "execution_count": null,
   "id": "2e09bb7e",
   "metadata": {},
   "outputs": [],
   "source": []
  },
  {
   "cell_type": "code",
   "execution_count": null,
   "id": "11099cde",
   "metadata": {},
   "outputs": [],
   "source": []
  }
 ],
 "metadata": {
  "kernelspec": {
   "display_name": "Python 3 (ipykernel)",
   "language": "python",
   "name": "python3"
  },
  "language_info": {
   "codemirror_mode": {
    "name": "ipython",
    "version": 3
   },
   "file_extension": ".py",
   "mimetype": "text/x-python",
   "name": "python",
   "nbconvert_exporter": "python",
   "pygments_lexer": "ipython3",
   "version": "3.9.7"
  }
 },
 "nbformat": 4,
 "nbformat_minor": 5
}
